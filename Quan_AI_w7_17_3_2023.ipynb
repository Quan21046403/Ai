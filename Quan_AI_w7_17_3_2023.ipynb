{
  "nbformat": 4,
  "nbformat_minor": 0,
  "metadata": {
    "colab": {
      "provenance": [],
      "authorship_tag": "ABX9TyP0VKIwKErF0pEQuDWPio2X",
      "include_colab_link": true
    },
    "kernelspec": {
      "name": "python3",
      "display_name": "Python 3"
    },
    "language_info": {
      "name": "python"
    }
  },
  "cells": [
    {
      "cell_type": "markdown",
      "metadata": {
        "id": "view-in-github",
        "colab_type": "text"
      },
      "source": [
        "<a href=\"https://colab.research.google.com/github/Quan21046403/Ai/blob/main/Quan_AI_w7_17_3_2023.ipynb\" target=\"_parent\"><img src=\"https://colab.research.google.com/assets/colab-badge.svg\" alt=\"Open In Colab\"/></a>"
      ]
    },
    {
      "cell_type": "code",
      "execution_count": 4,
      "metadata": {
        "id": "p5JTLybx2WSW"
      },
      "outputs": [],
      "source": [
        "import matplotlib.pyplot as plt\n",
        "import seaborn as sns\n",
        "import pandas as pd\n",
        "import numpy as np"
      ]
    },
    {
      "cell_type": "code",
      "source": [
        "from google.colab import files\n",
        "uploaded = files.upload()"
      ],
      "metadata": {
        "colab": {
          "base_uri": "https://localhost:8080/",
          "height": 73
        },
        "id": "lUVUvX-P4HCW",
        "outputId": "844e4802-6686-41b1-962c-cff99a5673d5"
      },
      "execution_count": 6,
      "outputs": [
        {
          "output_type": "display_data",
          "data": {
            "text/plain": [
              "<IPython.core.display.HTML object>"
            ],
            "text/html": [
              "\n",
              "     <input type=\"file\" id=\"files-bc230c98-9631-4103-b697-05c112f7c7ab\" name=\"files[]\" multiple disabled\n",
              "        style=\"border:none\" />\n",
              "     <output id=\"result-bc230c98-9631-4103-b697-05c112f7c7ab\">\n",
              "      Upload widget is only available when the cell has been executed in the\n",
              "      current browser session. Please rerun this cell to enable.\n",
              "      </output>\n",
              "      <script>// Copyright 2017 Google LLC\n",
              "//\n",
              "// Licensed under the Apache License, Version 2.0 (the \"License\");\n",
              "// you may not use this file except in compliance with the License.\n",
              "// You may obtain a copy of the License at\n",
              "//\n",
              "//      http://www.apache.org/licenses/LICENSE-2.0\n",
              "//\n",
              "// Unless required by applicable law or agreed to in writing, software\n",
              "// distributed under the License is distributed on an \"AS IS\" BASIS,\n",
              "// WITHOUT WARRANTIES OR CONDITIONS OF ANY KIND, either express or implied.\n",
              "// See the License for the specific language governing permissions and\n",
              "// limitations under the License.\n",
              "\n",
              "/**\n",
              " * @fileoverview Helpers for google.colab Python module.\n",
              " */\n",
              "(function(scope) {\n",
              "function span(text, styleAttributes = {}) {\n",
              "  const element = document.createElement('span');\n",
              "  element.textContent = text;\n",
              "  for (const key of Object.keys(styleAttributes)) {\n",
              "    element.style[key] = styleAttributes[key];\n",
              "  }\n",
              "  return element;\n",
              "}\n",
              "\n",
              "// Max number of bytes which will be uploaded at a time.\n",
              "const MAX_PAYLOAD_SIZE = 100 * 1024;\n",
              "\n",
              "function _uploadFiles(inputId, outputId) {\n",
              "  const steps = uploadFilesStep(inputId, outputId);\n",
              "  const outputElement = document.getElementById(outputId);\n",
              "  // Cache steps on the outputElement to make it available for the next call\n",
              "  // to uploadFilesContinue from Python.\n",
              "  outputElement.steps = steps;\n",
              "\n",
              "  return _uploadFilesContinue(outputId);\n",
              "}\n",
              "\n",
              "// This is roughly an async generator (not supported in the browser yet),\n",
              "// where there are multiple asynchronous steps and the Python side is going\n",
              "// to poll for completion of each step.\n",
              "// This uses a Promise to block the python side on completion of each step,\n",
              "// then passes the result of the previous step as the input to the next step.\n",
              "function _uploadFilesContinue(outputId) {\n",
              "  const outputElement = document.getElementById(outputId);\n",
              "  const steps = outputElement.steps;\n",
              "\n",
              "  const next = steps.next(outputElement.lastPromiseValue);\n",
              "  return Promise.resolve(next.value.promise).then((value) => {\n",
              "    // Cache the last promise value to make it available to the next\n",
              "    // step of the generator.\n",
              "    outputElement.lastPromiseValue = value;\n",
              "    return next.value.response;\n",
              "  });\n",
              "}\n",
              "\n",
              "/**\n",
              " * Generator function which is called between each async step of the upload\n",
              " * process.\n",
              " * @param {string} inputId Element ID of the input file picker element.\n",
              " * @param {string} outputId Element ID of the output display.\n",
              " * @return {!Iterable<!Object>} Iterable of next steps.\n",
              " */\n",
              "function* uploadFilesStep(inputId, outputId) {\n",
              "  const inputElement = document.getElementById(inputId);\n",
              "  inputElement.disabled = false;\n",
              "\n",
              "  const outputElement = document.getElementById(outputId);\n",
              "  outputElement.innerHTML = '';\n",
              "\n",
              "  const pickedPromise = new Promise((resolve) => {\n",
              "    inputElement.addEventListener('change', (e) => {\n",
              "      resolve(e.target.files);\n",
              "    });\n",
              "  });\n",
              "\n",
              "  const cancel = document.createElement('button');\n",
              "  inputElement.parentElement.appendChild(cancel);\n",
              "  cancel.textContent = 'Cancel upload';\n",
              "  const cancelPromise = new Promise((resolve) => {\n",
              "    cancel.onclick = () => {\n",
              "      resolve(null);\n",
              "    };\n",
              "  });\n",
              "\n",
              "  // Wait for the user to pick the files.\n",
              "  const files = yield {\n",
              "    promise: Promise.race([pickedPromise, cancelPromise]),\n",
              "    response: {\n",
              "      action: 'starting',\n",
              "    }\n",
              "  };\n",
              "\n",
              "  cancel.remove();\n",
              "\n",
              "  // Disable the input element since further picks are not allowed.\n",
              "  inputElement.disabled = true;\n",
              "\n",
              "  if (!files) {\n",
              "    return {\n",
              "      response: {\n",
              "        action: 'complete',\n",
              "      }\n",
              "    };\n",
              "  }\n",
              "\n",
              "  for (const file of files) {\n",
              "    const li = document.createElement('li');\n",
              "    li.append(span(file.name, {fontWeight: 'bold'}));\n",
              "    li.append(span(\n",
              "        `(${file.type || 'n/a'}) - ${file.size} bytes, ` +\n",
              "        `last modified: ${\n",
              "            file.lastModifiedDate ? file.lastModifiedDate.toLocaleDateString() :\n",
              "                                    'n/a'} - `));\n",
              "    const percent = span('0% done');\n",
              "    li.appendChild(percent);\n",
              "\n",
              "    outputElement.appendChild(li);\n",
              "\n",
              "    const fileDataPromise = new Promise((resolve) => {\n",
              "      const reader = new FileReader();\n",
              "      reader.onload = (e) => {\n",
              "        resolve(e.target.result);\n",
              "      };\n",
              "      reader.readAsArrayBuffer(file);\n",
              "    });\n",
              "    // Wait for the data to be ready.\n",
              "    let fileData = yield {\n",
              "      promise: fileDataPromise,\n",
              "      response: {\n",
              "        action: 'continue',\n",
              "      }\n",
              "    };\n",
              "\n",
              "    // Use a chunked sending to avoid message size limits. See b/62115660.\n",
              "    let position = 0;\n",
              "    do {\n",
              "      const length = Math.min(fileData.byteLength - position, MAX_PAYLOAD_SIZE);\n",
              "      const chunk = new Uint8Array(fileData, position, length);\n",
              "      position += length;\n",
              "\n",
              "      const base64 = btoa(String.fromCharCode.apply(null, chunk));\n",
              "      yield {\n",
              "        response: {\n",
              "          action: 'append',\n",
              "          file: file.name,\n",
              "          data: base64,\n",
              "        },\n",
              "      };\n",
              "\n",
              "      let percentDone = fileData.byteLength === 0 ?\n",
              "          100 :\n",
              "          Math.round((position / fileData.byteLength) * 100);\n",
              "      percent.textContent = `${percentDone}% done`;\n",
              "\n",
              "    } while (position < fileData.byteLength);\n",
              "  }\n",
              "\n",
              "  // All done.\n",
              "  yield {\n",
              "    response: {\n",
              "      action: 'complete',\n",
              "    }\n",
              "  };\n",
              "}\n",
              "\n",
              "scope.google = scope.google || {};\n",
              "scope.google.colab = scope.google.colab || {};\n",
              "scope.google.colab._files = {\n",
              "  _uploadFiles,\n",
              "  _uploadFilesContinue,\n",
              "};\n",
              "})(self);\n",
              "</script> "
            ]
          },
          "metadata": {}
        },
        {
          "output_type": "stream",
          "name": "stdout",
          "text": [
            "Saving mtcars.csv to mtcars.csv\n"
          ]
        }
      ]
    },
    {
      "cell_type": "code",
      "source": [
        "url='mtcars.csv'\n",
        "data=pd.read_csv(url)\n",
        "data.head()"
      ],
      "metadata": {
        "colab": {
          "base_uri": "https://localhost:8080/",
          "height": 206
        },
        "id": "zymVUxqA4fSn",
        "outputId": "b0d77627-fe78-48d7-8da7-d795e38ea8c7"
      },
      "execution_count": 7,
      "outputs": [
        {
          "output_type": "execute_result",
          "data": {
            "text/plain": [
              "          Unnamed: 0   mpg   disp   hp     wt\n",
              "0          Mazda RX4  21.0  160.0  110  2.620\n",
              "1      Mazda RX4 Wag  21.0  160.0  110  2.875\n",
              "2         Datsun 710  22.8  108.0   93  2.320\n",
              "3     Hornet 4 Drive  21.4  258.0  110  3.215\n",
              "4  Hornet Sportabout  18.7  360.0  175  3.440"
            ],
            "text/html": [
              "\n",
              "  <div id=\"df-5e9a6843-6573-4977-a0bc-84cf3e5ccabd\">\n",
              "    <div class=\"colab-df-container\">\n",
              "      <div>\n",
              "<style scoped>\n",
              "    .dataframe tbody tr th:only-of-type {\n",
              "        vertical-align: middle;\n",
              "    }\n",
              "\n",
              "    .dataframe tbody tr th {\n",
              "        vertical-align: top;\n",
              "    }\n",
              "\n",
              "    .dataframe thead th {\n",
              "        text-align: right;\n",
              "    }\n",
              "</style>\n",
              "<table border=\"1\" class=\"dataframe\">\n",
              "  <thead>\n",
              "    <tr style=\"text-align: right;\">\n",
              "      <th></th>\n",
              "      <th>Unnamed: 0</th>\n",
              "      <th>mpg</th>\n",
              "      <th>disp</th>\n",
              "      <th>hp</th>\n",
              "      <th>wt</th>\n",
              "    </tr>\n",
              "  </thead>\n",
              "  <tbody>\n",
              "    <tr>\n",
              "      <th>0</th>\n",
              "      <td>Mazda RX4</td>\n",
              "      <td>21.0</td>\n",
              "      <td>160.0</td>\n",
              "      <td>110</td>\n",
              "      <td>2.620</td>\n",
              "    </tr>\n",
              "    <tr>\n",
              "      <th>1</th>\n",
              "      <td>Mazda RX4 Wag</td>\n",
              "      <td>21.0</td>\n",
              "      <td>160.0</td>\n",
              "      <td>110</td>\n",
              "      <td>2.875</td>\n",
              "    </tr>\n",
              "    <tr>\n",
              "      <th>2</th>\n",
              "      <td>Datsun 710</td>\n",
              "      <td>22.8</td>\n",
              "      <td>108.0</td>\n",
              "      <td>93</td>\n",
              "      <td>2.320</td>\n",
              "    </tr>\n",
              "    <tr>\n",
              "      <th>3</th>\n",
              "      <td>Hornet 4 Drive</td>\n",
              "      <td>21.4</td>\n",
              "      <td>258.0</td>\n",
              "      <td>110</td>\n",
              "      <td>3.215</td>\n",
              "    </tr>\n",
              "    <tr>\n",
              "      <th>4</th>\n",
              "      <td>Hornet Sportabout</td>\n",
              "      <td>18.7</td>\n",
              "      <td>360.0</td>\n",
              "      <td>175</td>\n",
              "      <td>3.440</td>\n",
              "    </tr>\n",
              "  </tbody>\n",
              "</table>\n",
              "</div>\n",
              "      <button class=\"colab-df-convert\" onclick=\"convertToInteractive('df-5e9a6843-6573-4977-a0bc-84cf3e5ccabd')\"\n",
              "              title=\"Convert this dataframe to an interactive table.\"\n",
              "              style=\"display:none;\">\n",
              "        \n",
              "  <svg xmlns=\"http://www.w3.org/2000/svg\" height=\"24px\"viewBox=\"0 0 24 24\"\n",
              "       width=\"24px\">\n",
              "    <path d=\"M0 0h24v24H0V0z\" fill=\"none\"/>\n",
              "    <path d=\"M18.56 5.44l.94 2.06.94-2.06 2.06-.94-2.06-.94-.94-2.06-.94 2.06-2.06.94zm-11 1L8.5 8.5l.94-2.06 2.06-.94-2.06-.94L8.5 2.5l-.94 2.06-2.06.94zm10 10l.94 2.06.94-2.06 2.06-.94-2.06-.94-.94-2.06-.94 2.06-2.06.94z\"/><path d=\"M17.41 7.96l-1.37-1.37c-.4-.4-.92-.59-1.43-.59-.52 0-1.04.2-1.43.59L10.3 9.45l-7.72 7.72c-.78.78-.78 2.05 0 2.83L4 21.41c.39.39.9.59 1.41.59.51 0 1.02-.2 1.41-.59l7.78-7.78 2.81-2.81c.8-.78.8-2.07 0-2.86zM5.41 20L4 18.59l7.72-7.72 1.47 1.35L5.41 20z\"/>\n",
              "  </svg>\n",
              "      </button>\n",
              "      \n",
              "  <style>\n",
              "    .colab-df-container {\n",
              "      display:flex;\n",
              "      flex-wrap:wrap;\n",
              "      gap: 12px;\n",
              "    }\n",
              "\n",
              "    .colab-df-convert {\n",
              "      background-color: #E8F0FE;\n",
              "      border: none;\n",
              "      border-radius: 50%;\n",
              "      cursor: pointer;\n",
              "      display: none;\n",
              "      fill: #1967D2;\n",
              "      height: 32px;\n",
              "      padding: 0 0 0 0;\n",
              "      width: 32px;\n",
              "    }\n",
              "\n",
              "    .colab-df-convert:hover {\n",
              "      background-color: #E2EBFA;\n",
              "      box-shadow: 0px 1px 2px rgba(60, 64, 67, 0.3), 0px 1px 3px 1px rgba(60, 64, 67, 0.15);\n",
              "      fill: #174EA6;\n",
              "    }\n",
              "\n",
              "    [theme=dark] .colab-df-convert {\n",
              "      background-color: #3B4455;\n",
              "      fill: #D2E3FC;\n",
              "    }\n",
              "\n",
              "    [theme=dark] .colab-df-convert:hover {\n",
              "      background-color: #434B5C;\n",
              "      box-shadow: 0px 1px 3px 1px rgba(0, 0, 0, 0.15);\n",
              "      filter: drop-shadow(0px 1px 2px rgba(0, 0, 0, 0.3));\n",
              "      fill: #FFFFFF;\n",
              "    }\n",
              "  </style>\n",
              "\n",
              "      <script>\n",
              "        const buttonEl =\n",
              "          document.querySelector('#df-5e9a6843-6573-4977-a0bc-84cf3e5ccabd button.colab-df-convert');\n",
              "        buttonEl.style.display =\n",
              "          google.colab.kernel.accessAllowed ? 'block' : 'none';\n",
              "\n",
              "        async function convertToInteractive(key) {\n",
              "          const element = document.querySelector('#df-5e9a6843-6573-4977-a0bc-84cf3e5ccabd');\n",
              "          const dataTable =\n",
              "            await google.colab.kernel.invokeFunction('convertToInteractive',\n",
              "                                                     [key], {});\n",
              "          if (!dataTable) return;\n",
              "\n",
              "          const docLinkHtml = 'Like what you see? Visit the ' +\n",
              "            '<a target=\"_blank\" href=https://colab.research.google.com/notebooks/data_table.ipynb>data table notebook</a>'\n",
              "            + ' to learn more about interactive tables.';\n",
              "          element.innerHTML = '';\n",
              "          dataTable['output_type'] = 'display_data';\n",
              "          await google.colab.output.renderOutput(dataTable, element);\n",
              "          const docLink = document.createElement('div');\n",
              "          docLink.innerHTML = docLinkHtml;\n",
              "          element.appendChild(docLink);\n",
              "        }\n",
              "      </script>\n",
              "    </div>\n",
              "  </div>\n",
              "  "
            ]
          },
          "metadata": {},
          "execution_count": 7
        }
      ]
    },
    {
      "cell_type": "code",
      "source": [
        "data.hist()\n",
        "plt.show()"
      ],
      "metadata": {
        "colab": {
          "base_uri": "https://localhost:8080/",
          "height": 281
        },
        "id": "3cCIM7VD51hy",
        "outputId": "c3205237-e63b-4124-b96f-4c18a8401624"
      },
      "execution_count": 8,
      "outputs": [
        {
          "output_type": "display_data",
          "data": {
            "text/plain": [
              "<Figure size 432x288 with 4 Axes>"
            ],
            "image/png": "[encoded data removed]"
          },
          "metadata": {
            "needs_background": "light"
          }
        }
      ]
    },
    {
      "cell_type": "code",
      "source": [
        "sns.pairplot(data)"
      ],
      "metadata": {
        "colab": {
          "base_uri": "https://localhost:8080/",
          "height": 743
        },
        "id": "vpbb41iZ6Kpn",
        "outputId": "41abaca1-a4ed-484a-a4c9-a0060b018302"
      },
      "execution_count": 10,
      "outputs": [
        {
          "output_type": "execute_result",
          "data": {
            "text/plain": [
              "<seaborn.axisgrid.PairGrid at 0x7fd02e39c3d0>"
            ]
          },
          "metadata": {},
          "execution_count": 10
        },
        {
          "output_type": "display_data",
          "data": {
            "text/plain": [
              "<Figure size 720x720 with 20 Axes>"
            ],
            "image/png": "[encoded data removed]"
          },
          "metadata": {
            "needs_background": "light"
          }
        }
      ]
    },
    {
      "cell_type": "code",
      "source": [
        "correlation=data.corr()\n",
        "print(correlation)"
      ],
      "metadata": {
        "colab": {
          "base_uri": "https://localhost:8080/"
        },
        "id": "vLlyo0hw6S_k",
        "outputId": "5688bc84-e23e-4981-b509-da28931d677c"
      },
      "execution_count": 11,
      "outputs": [
        {
          "output_type": "stream",
          "name": "stdout",
          "text": [
            "           mpg      disp        hp        wt\n",
            "mpg   1.000000 -0.847551 -0.776168 -0.867659\n",
            "disp -0.847551  1.000000  0.790949  0.887980\n",
            "hp   -0.776168  0.790949  1.000000  0.658748\n",
            "wt   -0.867659  0.887980  0.658748  1.000000\n"
          ]
        }
      ]
    },
    {
      "cell_type": "code",
      "source": [
        "sns.heatmap(correlation,annot=True)"
      ],
      "metadata": {
        "colab": {
          "base_uri": "https://localhost:8080/",
          "height": 286
        },
        "id": "8pxDxnI27AE-",
        "outputId": "06409e43-4079-4b14-8d40-61d8ba78e6ac"
      },
      "execution_count": 13,
      "outputs": [
        {
          "output_type": "execute_result",
          "data": {
            "text/plain": [
              "<Axes: >"
            ]
          },
          "metadata": {},
          "execution_count": 13
        },
        {
          "output_type": "display_data",
          "data": {
            "text/plain": [
              "<Figure size 432x288 with 2 Axes>"
            ],
            "image/png": "[encoded data removed]"
          },
          "metadata": {
            "needs_background": "light"
          }
        }
      ]
    },
    {
      "cell_type": "code",
      "source": [
        "data.plot(kind='scatter',x='wt',y='mpg',figsize=(9,9),color='y')"
      ],
      "metadata": {
        "colab": {
          "base_uri": "https://localhost:8080/",
          "height": 571
        },
        "id": "BDi-FIXF7lcn",
        "outputId": "c349065d-4bf4-4c9b-d9cf-97c4dd5efd1f"
      },
      "execution_count": 15,
      "outputs": [
        {
          "output_type": "execute_result",
          "data": {
            "text/plain": [
              "<Axes: xlabel='wt', ylabel='mpg'>"
            ]
          },
          "metadata": {},
          "execution_count": 15
        },
        {
          "output_type": "display_data",
          "data": {
            "text/plain": [
              "<Figure size 648x648 with 1 Axes>"
            ],
            "image/png": "[encoded data removed]"
          },
          "metadata": {
            "needs_background": "light"
          }
        }
      ]
    },
    {
      "cell_type": "code",
      "source": [
        "from sklearn import linear_model\n",
        "model=linear_model.LinearRegression()\n",
        "model.fit(X=pd.DataFrame(data['wt']),y=data['mpg'])\n",
        "print('Gia tri intercept:', model.intercept_)\n",
        "print('Gia tri coeffient:', model.coef_)\n",
        "print('Do chinh xac:', model.score(X=pd.DataFrame(data['wt']),y=data['mpg']))"
      ],
      "metadata": {
        "colab": {
          "base_uri": "https://localhost:8080/"
        },
        "id": "vo3yKX7A8NxJ",
        "outputId": "9c8948f3-fa1e-4037-e1b7-c050aa7deb97"
      },
      "execution_count": 26,
      "outputs": [
        {
          "output_type": "stream",
          "name": "stdout",
          "text": [
            "Gia tri intercept: 37.28512616734204\n",
            "Gia tri coeffient: [-5.34447157]\n",
            "Do chinh xac: 0.7528327936582646\n"
          ]
        }
      ]
    },
    {
      "cell_type": "code",
      "source": [
        "data.plot(kind='scatter',x='wt',y='mpg',figsize=(9,9),color='y',xlim=(0,7))"
      ],
      "metadata": {
        "colab": {
          "base_uri": "https://localhost:8080/",
          "height": 571
        },
        "id": "oKDOxa-M9270",
        "outputId": "4ab1dde4-fec5-470f-ec80-e5667134496c"
      },
      "execution_count": 29,
      "outputs": [
        {
          "output_type": "execute_result",
          "data": {
            "text/plain": [
              "<Axes: xlabel='wt', ylabel='mpg'>"
            ]
          },
          "metadata": {},
          "execution_count": 29
        },
        {
          "output_type": "display_data",
          "data": {
            "text/plain": [
              "<Figure size 648x648 with 1 Axes>"
            ],
            "image/png": "[encoded data removed]"
          },
          "metadata": {
            "needs_background": "light"
          }
        }
      ]
    },
    {
      "cell_type": "code",
      "source": [
        "y_pred=model.predict(X=pd.DataFrame(data['wt']))\n",
        "plt.plot(data['wt'],y_pred,color='blue')"
      ],
      "metadata": {
        "colab": {
          "base_uri": "https://localhost:8080/",
          "height": 284
        },
        "id": "h7scsEDxAvRy",
        "outputId": "36aab362-fecc-48aa-883a-4f069a700e9b"
      },
      "execution_count": 30,
      "outputs": [
        {
          "output_type": "execute_result",
          "data": {
            "text/plain": [
              "[<matplotlib.lines.Line2D at 0x7fd028102d90>]"
            ]
          },
          "metadata": {},
          "execution_count": 30
        },
        {
          "output_type": "display_data",
          "data": {
            "text/plain": [
              "<Figure size 432x288 with 1 Axes>"
            ],
            "image/png": "[encoded data removed]"
          },
          "metadata": {
            "needs_background": "light"
          }
        }
      ]
    },
    {
      "cell_type": "code",
      "source": [
        "#Hồi quy bậc 2\n",
        "model = linear_model.LinearRegression()\n",
        "X=pd.DataFrame([data['wt'],data['wt']**2]).T   #T: Transpose, chuyển vị\n",
        "model.fit(X,y=data['mpg'])\n",
        "print(\"Hệ số Intercept: \",model.intercept_)\n",
        "print(\"Hệ số coeffient là: \",model.coef_)\n",
        "print(\"Độ chính xác của mô hình: \", model.score(X,y=data['mpg']))"
      ],
      "metadata": {
        "colab": {
          "base_uri": "https://localhost:8080/"
        },
        "id": "iItTc-T2BJzS",
        "outputId": "c3181227-c9e4-4cff-d704-9b1ed91732f1"
      },
      "execution_count": 43,
      "outputs": [
        {
          "output_type": "stream",
          "name": "stdout",
          "text": [
            "Hệ số Intercept:  49.93081094945181\n",
            "Hệ số coeffient là:  [-13.38033708   1.17108689]\n",
            "Độ chính xác của mô hình:  0.8190613581384094\n"
          ]
        }
      ]
    },
    {
      "cell_type": "code",
      "source": [
        "range=np.arange(1.5,5.5,0.1)\n",
        "X_range=pd.DataFrame([range,range**2]).T\n",
        "y_pred=model.predict(X=X_range)\n",
        "data.plot(kind='scatter',x='wt',y='mpg',figsize=(9,9),color='y',xlim=(0,7))\n",
        "plt.plot(range,y_pred,color='y')"
      ],
      "metadata": {
        "colab": {
          "base_uri": "https://localhost:8080/",
          "height": 661
        },
        "id": "Bm-Z4t9uB3xR",
        "outputId": "bc352af8-e215-4a30-ad4c-f07fc94d4e3f"
      },
      "execution_count": 44,
      "outputs": [
        {
          "output_type": "stream",
          "name": "stderr",
          "text": [
            "/usr/local/lib/python3.9/dist-packages/sklearn/base.py:439: UserWarning: X does not have valid feature names, but LinearRegression was fitted with feature names\n",
            "  warnings.warn(\n",
            "/usr/local/lib/python3.9/dist-packages/pandas/plotting/_matplotlib/core.py:1114: UserWarning: No data for colormapping provided via 'c'. Parameters 'cmap' will be ignored\n",
            "  scatter = ax.scatter(\n"
          ]
        },
        {
          "output_type": "execute_result",
          "data": {
            "text/plain": [
              "[<matplotlib.lines.Line2D at 0x7fd027e223d0>]"
            ]
          },
          "metadata": {},
          "execution_count": 44
        },
        {
          "output_type": "display_data",
          "data": {
            "text/plain": [
              "<Figure size 648x648 with 1 Axes>"
            ],
            "image/png": "[encoded data removed]"
          },
          "metadata": {
            "needs_background": "light"
          }
        }
      ]
    },
    {
      "cell_type": "code",
      "source": [
        "model = linear_model.LinearRegression()\n",
        "y='mpg'\n",
        "model.fit(X=data.loc[:,['wt','hp']],y=data['mpg'])\n",
        "print(\"Intercept: \",model.intercept_)\n",
        "print(\"Coeffient là: \",model.coef_)\n",
        "print(\"Độ chính xác của mô hình: \",X,y)"
      ],
      "metadata": {
        "colab": {
          "base_uri": "https://localhost:8080/"
        },
        "id": "nKYus6AIFZZ6",
        "outputId": "eca0483e-e099-49d3-ef16-30743532336d"
      },
      "execution_count": 60,
      "outputs": [
        {
          "output_type": "stream",
          "name": "stdout",
          "text": [
            "Intercept:  37.227270116447215\n",
            "Coeffient là:  [-3.87783074 -0.03177295]\n",
            "Độ chính xác của mô hình:  wt         6.864400  8.265625  5.382400  10.336225 11.833600 11.971600  \\\n",
            "wt                                                                       \n",
            "17.984728        NaN       NaN       NaN       NaN       NaN       NaN   \n",
            "23.763672        NaN       NaN       NaN       NaN       NaN       NaN   \n",
            "12.487168        NaN       NaN       NaN       NaN       NaN       NaN   \n",
            "33.230963        NaN       NaN       NaN       NaN       NaN       NaN   \n",
            "40.707584        NaN       NaN       NaN       NaN       NaN       NaN   \n",
            "41.421736        NaN       NaN       NaN       NaN       NaN       NaN   \n",
            "45.499293        NaN       NaN       NaN       NaN       NaN       NaN   \n",
            "32.461759        NaN       NaN       NaN       NaN       NaN       NaN   \n",
            "31.255875        NaN       NaN       NaN       NaN       NaN       NaN   \n",
            "40.707584        NaN       NaN       NaN       NaN       NaN       NaN   \n",
            "40.707584        NaN       NaN       NaN       NaN       NaN       NaN   \n",
            "67.419143        NaN       NaN       NaN       NaN       NaN       NaN   \n",
            "51.895117        NaN       NaN       NaN       NaN       NaN       NaN   \n",
            "54.010152        NaN       NaN       NaN       NaN       NaN       NaN   \n",
            "144.703125       NaN       NaN       NaN       NaN       NaN       NaN   \n",
            "159.572865       NaN       NaN       NaN       NaN       NaN       NaN   \n",
            "152.701439       NaN       NaN       NaN       NaN       NaN       NaN   \n",
            "10.648000        NaN       NaN       NaN       NaN       NaN       NaN   \n",
            "4.212283         NaN       NaN       NaN       NaN       NaN       NaN   \n",
            "6.178858         NaN       NaN       NaN       NaN       NaN       NaN   \n",
            "14.977895        NaN       NaN       NaN       NaN       NaN       NaN   \n",
            "43.614208        NaN       NaN       NaN       NaN       NaN       NaN   \n",
            "40.530338        NaN       NaN       NaN       NaN       NaN       NaN   \n",
            "56.623104        NaN       NaN       NaN       NaN       NaN       NaN   \n",
            "56.844576        NaN       NaN       NaN       NaN       NaN       NaN   \n",
            "7.245075         NaN       NaN       NaN       NaN       NaN       NaN   \n",
            "9.800344         NaN       NaN       NaN       NaN       NaN       NaN   \n",
            "3.463513         NaN       NaN       NaN       NaN       NaN       NaN   \n",
            "31.855013        NaN       NaN       NaN       NaN       NaN       NaN   \n",
            "21.253933        NaN       NaN       NaN       NaN       NaN       NaN   \n",
            "45.499293        NaN       NaN       NaN       NaN       NaN       NaN   \n",
            "21.484952        NaN       NaN       NaN       NaN       NaN       NaN   \n",
            "\n",
            "wt         12.744900 10.176100 9.922500  11.833600  ... 11.799225 14.745600  \\\n",
            "wt                                                  ...                       \n",
            "17.984728        NaN       NaN       NaN       NaN  ...       NaN       NaN   \n",
            "23.763672        NaN       NaN       NaN       NaN  ...       NaN       NaN   \n",
            "12.487168        NaN       NaN       NaN       NaN  ...       NaN       NaN   \n",
            "33.230963        NaN       NaN       NaN       NaN  ...       NaN       NaN   \n",
            "40.707584        NaN       NaN       NaN       NaN  ...       NaN       NaN   \n",
            "41.421736        NaN       NaN       NaN       NaN  ...       NaN       NaN   \n",
            "45.499293        NaN       NaN       NaN       NaN  ...       NaN       NaN   \n",
            "32.461759        NaN       NaN       NaN       NaN  ...       NaN       NaN   \n",
            "31.255875        NaN       NaN       NaN       NaN  ...       NaN       NaN   \n",
            "40.707584        NaN       NaN       NaN       NaN  ...       NaN       NaN   \n",
            "40.707584        NaN       NaN       NaN       NaN  ...       NaN       NaN   \n",
            "67.419143        NaN       NaN       NaN       NaN  ...       NaN       NaN   \n",
            "51.895117        NaN       NaN       NaN       NaN  ...       NaN       NaN   \n",
            "54.010152        NaN       NaN       NaN       NaN  ...       NaN       NaN   \n",
            "144.703125       NaN       NaN       NaN       NaN  ...       NaN       NaN   \n",
            "159.572865       NaN       NaN       NaN       NaN  ...       NaN       NaN   \n",
            "152.701439       NaN       NaN       NaN       NaN  ...       NaN       NaN   \n",
            "10.648000        NaN       NaN       NaN       NaN  ...       NaN       NaN   \n",
            "4.212283         NaN       NaN       NaN       NaN  ...       NaN       NaN   \n",
            "6.178858         NaN       NaN       NaN       NaN  ...       NaN       NaN   \n",
            "14.977895        NaN       NaN       NaN       NaN  ...       NaN       NaN   \n",
            "43.614208        NaN       NaN       NaN       NaN  ...       NaN       NaN   \n",
            "40.530338        NaN       NaN       NaN       NaN  ...       NaN       NaN   \n",
            "56.623104        NaN       NaN       NaN       NaN  ...       NaN       NaN   \n",
            "56.844576        NaN       NaN       NaN       NaN  ...       NaN       NaN   \n",
            "7.245075         NaN       NaN       NaN       NaN  ...       NaN       NaN   \n",
            "9.800344         NaN       NaN       NaN       NaN  ...       NaN       NaN   \n",
            "3.463513         NaN       NaN       NaN       NaN  ...       NaN       NaN   \n",
            "31.855013        NaN       NaN       NaN       NaN  ...       NaN       NaN   \n",
            "21.253933        NaN       NaN       NaN       NaN  ...       NaN       NaN   \n",
            "45.499293        NaN       NaN       NaN       NaN  ...       NaN       NaN   \n",
            "21.484952        NaN       NaN       NaN       NaN  ...       NaN       NaN   \n",
            "\n",
            "wt         14.784025 3.744225  4.579600  2.289169  10.048900 7.672900   \\\n",
            "wt                                                                       \n",
            "17.984728        NaN       NaN       NaN       NaN       NaN       NaN   \n",
            "23.763672        NaN       NaN       NaN       NaN       NaN       NaN   \n",
            "12.487168        NaN       NaN       NaN       NaN       NaN       NaN   \n",
            "33.230963        NaN       NaN       NaN       NaN       NaN       NaN   \n",
            "40.707584        NaN       NaN       NaN       NaN       NaN       NaN   \n",
            "41.421736        NaN       NaN       NaN       NaN       NaN       NaN   \n",
            "45.499293        NaN       NaN       NaN       NaN       NaN       NaN   \n",
            "32.461759        NaN       NaN       NaN       NaN       NaN       NaN   \n",
            "31.255875        NaN       NaN       NaN       NaN       NaN       NaN   \n",
            "40.707584        NaN       NaN       NaN       NaN       NaN       NaN   \n",
            "40.707584        NaN       NaN       NaN       NaN       NaN       NaN   \n",
            "67.419143        NaN       NaN       NaN       NaN       NaN       NaN   \n",
            "51.895117        NaN       NaN       NaN       NaN       NaN       NaN   \n",
            "54.010152        NaN       NaN       NaN       NaN       NaN       NaN   \n",
            "144.703125       NaN       NaN       NaN       NaN       NaN       NaN   \n",
            "159.572865       NaN       NaN       NaN       NaN       NaN       NaN   \n",
            "152.701439       NaN       NaN       NaN       NaN       NaN       NaN   \n",
            "10.648000        NaN       NaN       NaN       NaN       NaN       NaN   \n",
            "4.212283         NaN       NaN       NaN       NaN       NaN       NaN   \n",
            "6.178858         NaN       NaN       NaN       NaN       NaN       NaN   \n",
            "14.977895        NaN       NaN       NaN       NaN       NaN       NaN   \n",
            "43.614208        NaN       NaN       NaN       NaN       NaN       NaN   \n",
            "40.530338        NaN       NaN       NaN       NaN       NaN       NaN   \n",
            "56.623104        NaN       NaN       NaN       NaN       NaN       NaN   \n",
            "56.844576        NaN       NaN       NaN       NaN       NaN       NaN   \n",
            "7.245075         NaN       NaN       NaN       NaN       NaN       NaN   \n",
            "9.800344         NaN       NaN       NaN       NaN       NaN       NaN   \n",
            "3.463513         NaN       NaN       NaN       NaN       NaN       NaN   \n",
            "31.855013        NaN       NaN       NaN       NaN       NaN       NaN   \n",
            "21.253933        NaN       NaN       NaN       NaN       NaN       NaN   \n",
            "45.499293        NaN       NaN       NaN       NaN       NaN       NaN   \n",
            "21.484952        NaN       NaN       NaN       NaN       NaN       NaN   \n",
            "\n",
            "wt         12.744900 7.728400   \n",
            "wt                              \n",
            "17.984728        NaN       NaN  \n",
            "23.763672        NaN       NaN  \n",
            "12.487168        NaN       NaN  \n",
            "33.230963        NaN       NaN  \n",
            "40.707584        NaN       NaN  \n",
            "41.421736        NaN       NaN  \n",
            "45.499293        NaN       NaN  \n",
            "32.461759        NaN       NaN  \n",
            "31.255875        NaN       NaN  \n",
            "40.707584        NaN       NaN  \n",
            "40.707584        NaN       NaN  \n",
            "67.419143        NaN       NaN  \n",
            "51.895117        NaN       NaN  \n",
            "54.010152        NaN       NaN  \n",
            "144.703125       NaN       NaN  \n",
            "159.572865       NaN       NaN  \n",
            "152.701439       NaN       NaN  \n",
            "10.648000        NaN       NaN  \n",
            "4.212283         NaN       NaN  \n",
            "6.178858         NaN       NaN  \n",
            "14.977895        NaN       NaN  \n",
            "43.614208        NaN       NaN  \n",
            "40.530338        NaN       NaN  \n",
            "56.623104        NaN       NaN  \n",
            "56.844576        NaN       NaN  \n",
            "7.245075         NaN       NaN  \n",
            "9.800344         NaN       NaN  \n",
            "3.463513         NaN       NaN  \n",
            "31.855013        NaN       NaN  \n",
            "21.253933        NaN       NaN  \n",
            "45.499293        NaN       NaN  \n",
            "21.484952        NaN       NaN  \n",
            "\n",
            "[32 rows x 32 columns] mpg\n"
          ]
        }
      ]
    },
    {
      "cell_type": "code",
      "source": [],
      "metadata": {
        "id": "K8c6WR5oHl2F"
      },
      "execution_count": null,
      "outputs": []
    }
  ]
}