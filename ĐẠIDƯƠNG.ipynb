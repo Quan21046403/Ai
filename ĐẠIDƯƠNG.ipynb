{
  "nbformat": 4,
  "nbformat_minor": 0,
  "metadata": {
    "colab": {
      "provenance": [],
      "gpuType": "T4",
      "authorship_tag": "ABX9TyMih1JTAaL6MOewCWNgKztb",
      "include_colab_link": true
    },
    "kernelspec": {
      "name": "python3",
      "display_name": "Python 3"
    },
    "language_info": {
      "name": "python"
    },
    "accelerator": "GPU",
    "gpuClass": "standard"
  },
  "cells": [
    {
      "cell_type": "markdown",
      "metadata": {
        "id": "view-in-github",
        "colab_type": "text"
      },
      "source": [
        "<a href=\"https://colab.research.google.com/github/Quan21046403/Ai/blob/main/%C4%90%E1%BA%A0ID%C6%AF%C6%A0NG.ipynb\" target=\"_parent\"><img src=\"https://colab.research.google.com/assets/colab-badge.svg\" alt=\"Open In Colab\"/></a>"
      ]
    },
    {
      "cell_type": "code",
      "execution_count": 1,
      "metadata": {
        "id": "b08f-vHX9pDD"
      },
      "outputs": [],
      "source": [
        "from os import listdir\n",
        "from numpy import asarray, save\n",
        "from keras.utils import load_img\n",
        "from keras.utils import img_to_array\n",
        "import numpy as np\n",
        "from sklearn.model_selection import train_test_split\n",
        "from keras.datasets import cifar100\n",
        "import matplotlib.pyplot as plt\n",
        "from keras.layers import Dense, Dropout, Flatten, Conv2D, MaxPooling2D, Normalization\n",
        "from keras.models import Sequential, Model\n",
        "from keras import Input\n",
        "from keras.layers import LeakyReLU\n",
        "from keras.optimizers import Adam"
      ]
    },
    {
      "cell_type": "code",
      "source": [
        "from google.colab import drive\n",
        "drive.mount('/content/drive')"
      ],
      "metadata": {
        "colab": {
          "base_uri": "https://localhost:8080/"
        },
        "id": "2dMj7nI89zla",
        "outputId": "a094843b-922f-4d7c-8c0b-2c1a71866dc2"
      },
      "execution_count": 2,
      "outputs": [
        {
          "output_type": "stream",
          "name": "stdout",
          "text": [
            "Mounted at /content/drive\n"
          ]
        }
      ]
    },
    {
      "cell_type": "code",
      "source": [
        "from numpy import asarray\n",
        "import h5py\n",
        "folder = '/content/drive/MyDrive/OCEAN/'\n",
        "photos, labels = list(), list()\n",
        "for file in listdir(folder):\n",
        "  output = 0.0\n",
        "  if file.startswith('BACHTUOC'):\n",
        "    output = 0\n",
        "  if file.startswith('CADUOI'):\n",
        "    output = 1\n",
        "  if file.startswith('CAHE'):\n",
        "    output = 2\n",
        "  if file.startswith('CANGUA'):\n",
        "    output = 3\n",
        "  if file.startswith('CANHCUT'):\n",
        "    output = 4\n",
        "  if file.startswith('CAVOI'):\n",
        "    output = 5\n",
        "  if file.startswith('CUA'):\n",
        "    output = 6\n",
        "  if file.startswith('RUABIEN'):\n",
        "    output = 7\n",
        "  if file.startswith('SAOBIEN'):\n",
        "    output = 8\n",
        "  if file.startswith('SUA'):\n",
        "    output = 9\n",
        "  photo = load_img(folder + file, target_size=(128, 128))\n",
        "  photo = img_to_array(photo)\n",
        "  photos.append(photo)\n",
        "  labels.append(output)\n",
        "\n",
        "photos = asarray(photos)\n",
        "labels = asarray(labels)\n",
        "print(photos.shape, labels.shape)\n",
        "save('/content/drive/MyDrive/OCEAN/OCEAN_PHOTOS', photos)\n",
        "save('/content/drive/MyDrive/OCEAN/OCEAN_LABELS', labels)"
      ],
      "metadata": {
        "colab": {
          "base_uri": "https://localhost:8080/"
        },
        "id": "PkG3Wbtk94tx",
        "outputId": "dcd2e3ac-5d48-49de-faa7-f49eee73b99f"
      },
      "execution_count": 3,
      "outputs": [
        {
          "output_type": "stream",
          "name": "stdout",
          "text": [
            "(10468, 128, 128, 3) (10468,)\n"
          ]
        }
      ]
    },
    {
      "cell_type": "code",
      "source": [
        "# Load images and labels\n",
        "from keras.utils import to_categorical #one hot encoding\n",
        "photos = np.load('/content/drive/MyDrive/OCEAN/OCEAN_PHOTOS.npy')\n",
        "labels = np.load('/content/drive/MyDrive/OCEAN/OCEAN_LABELS.npy')\n",
        "labels_one_hot = to_categorical(labels)\n",
        "x_train, x_test, y_train, y_test = train_test_split(photos, labels_one_hot, test_size = 0.2, random_state = 128)"
      ],
      "metadata": {
        "id": "a4kluL1X-m3M"
      },
      "execution_count": 4,
      "outputs": []
    },
    {
      "cell_type": "code",
      "source": [
        "model = Sequential()\n",
        "#Convolutional\n",
        "model.add(Conv2D(8, kernel_size= (3,3), activation= 'relu', input_shape = (128,128,3), padding= 'same'))\n",
        "model.add(Conv2D(8, kernel_size= (3,3), activation= 'relu', padding= 'same'))\n",
        "model.add(MaxPooling2D((2,2), padding= 'same'))\n",
        "\n",
        "model.add(Conv2D(16, kernel_size= (3,3), activation= 'relu', padding= 'same'))\n",
        "model.add(Conv2D(16, kernel_size= (3,3), activation= 'relu', padding= 'same'))\n",
        "model.add(MaxPooling2D((2,2), padding= 'same'))\n",
        "\n",
        "model.add(Conv2D(32, kernel_size= (3,3), activation= 'relu', padding= 'same'))\n",
        "model.add(Conv2D(32, kernel_size= (3,3), activation= 'relu', padding= 'same'))\n",
        "model.add(MaxPooling2D((2,2), padding= 'same'))\n",
        "\n",
        "model.add(Conv2D(64, kernel_size= (3,3), activation= 'relu', padding= 'same'))\n",
        "model.add(Conv2D(64, kernel_size= (3,3), activation= 'relu', padding= 'same'))\n",
        "model.add(MaxPooling2D((2,2), padding= 'same'))\n",
        "\n",
        "model.add(Conv2D(64, kernel_size= (2,2), activation= 'relu', padding= 'same'))\n",
        "model.add(Conv2D(64, kernel_size= (2,2), activation= 'relu', padding= 'same'))\n",
        "model.add(MaxPooling2D((2,2), padding= 'same'))\n",
        "\n",
        "# Fully connected layers\n",
        "model.add(Flatten())\n",
        "model.add(Dense(512, activation= 'relu'))\n",
        "model.add(Dropout(0.25))\n",
        "model.add(Dense(512, activation= 'relu'))\n",
        "model.add(Dropout(0.25))\n",
        "model.add(Dense(10, activation= 'softmax'))\n",
        "model.summary()"
      ],
      "metadata": {
        "colab": {
          "base_uri": "https://localhost:8080/"
        },
        "id": "8TSvTDYHVDf6",
        "outputId": "d46c2a3e-0684-4e22-ee83-9f4db834ad8f"
      },
      "execution_count": 5,
      "outputs": [
        {
          "output_type": "stream",
          "name": "stdout",
          "text": [
            "Model: \"sequential\"\n",
            "_________________________________________________________________\n",
            " Layer (type)                Output Shape              Param #   \n",
            "=================================================================\n",
            " conv2d (Conv2D)             (None, 128, 128, 8)       224       \n",
            "                                                                 \n",
            " conv2d_1 (Conv2D)           (None, 128, 128, 8)       584       \n",
            "                                                                 \n",
            " max_pooling2d (MaxPooling2D  (None, 64, 64, 8)        0         \n",
            " )                                                               \n",
            "                                                                 \n",
            " conv2d_2 (Conv2D)           (None, 64, 64, 16)        1168      \n",
            "                                                                 \n",
            " conv2d_3 (Conv2D)           (None, 64, 64, 16)        2320      \n",
            "                                                                 \n",
            " max_pooling2d_1 (MaxPooling  (None, 32, 32, 16)       0         \n",
            " 2D)                                                             \n",
            "                                                                 \n",
            " conv2d_4 (Conv2D)           (None, 32, 32, 32)        4640      \n",
            "                                                                 \n",
            " conv2d_5 (Conv2D)           (None, 32, 32, 32)        9248      \n",
            "                                                                 \n",
            " max_pooling2d_2 (MaxPooling  (None, 16, 16, 32)       0         \n",
            " 2D)                                                             \n",
            "                                                                 \n",
            " conv2d_6 (Conv2D)           (None, 16, 16, 64)        18496     \n",
            "                                                                 \n",
            " conv2d_7 (Conv2D)           (None, 16, 16, 64)        36928     \n",
            "                                                                 \n",
            " max_pooling2d_3 (MaxPooling  (None, 8, 8, 64)         0         \n",
            " 2D)                                                             \n",
            "                                                                 \n",
            " conv2d_8 (Conv2D)           (None, 8, 8, 64)          16448     \n",
            "                                                                 \n",
            " conv2d_9 (Conv2D)           (None, 8, 8, 64)          16448     \n",
            "                                                                 \n",
            " max_pooling2d_4 (MaxPooling  (None, 4, 4, 64)         0         \n",
            " 2D)                                                             \n",
            "                                                                 \n",
            " flatten (Flatten)           (None, 1024)              0         \n",
            "                                                                 \n",
            " dense (Dense)               (None, 512)               524800    \n",
            "                                                                 \n",
            " dropout (Dropout)           (None, 512)               0         \n",
            "                                                                 \n",
            " dense_1 (Dense)             (None, 512)               262656    \n",
            "                                                                 \n",
            " dropout_1 (Dropout)         (None, 512)               0         \n",
            "                                                                 \n",
            " dense_2 (Dense)             (None, 10)                5130      \n",
            "                                                                 \n",
            "=================================================================\n",
            "Total params: 899,090\n",
            "Trainable params: 899,090\n",
            "Non-trainable params: 0\n",
            "_________________________________________________________________\n"
          ]
        }
      ]
    },
    {
      "cell_type": "code",
      "source": [
        "x_train.shape"
      ],
      "metadata": {
        "colab": {
          "base_uri": "https://localhost:8080/"
        },
        "id": "lsYLn1XUVICi",
        "outputId": "dfa0d488-1715-4e89-8b5b-ef2c6f84ea44"
      },
      "execution_count": 6,
      "outputs": [
        {
          "output_type": "execute_result",
          "data": {
            "text/plain": [
              "(8374, 128, 128, 3)"
            ]
          },
          "metadata": {},
          "execution_count": 6
        }
      ]
    },
    {
      "cell_type": "code",
      "source": [
        "y_train.shape"
      ],
      "metadata": {
        "colab": {
          "base_uri": "https://localhost:8080/"
        },
        "id": "9EibD0LsVKyf",
        "outputId": "27117242-af07-4aa5-a67d-0c0a13787cf9"
      },
      "execution_count": 7,
      "outputs": [
        {
          "output_type": "execute_result",
          "data": {
            "text/plain": [
              "(8374, 10)"
            ]
          },
          "metadata": {},
          "execution_count": 7
        }
      ]
    },
    {
      "cell_type": "code",
      "source": [
        "# Training\n",
        "batch_size= 16\n",
        "epochs= 40   \n",
        "\n",
        "model.compile(optimizer = Adam(), loss = 'categorical_crossentropy', metrics = ['accuracy'])\n",
        "train=model.fit(x_train,y_train,batch_size=batch_size,epochs=epochs,verbose=1)\n",
        "eval = model.evaluate(x_test, y_test)\n",
        "print('Test loss: ', eval[0])\n",
        "print('Test accuracy: ', eval[1])"
      ],
      "metadata": {
        "colab": {
          "base_uri": "https://localhost:8080/"
        },
        "id": "7wCQcQHcVMgw",
        "outputId": "51d3e8d4-fd8e-4dc3-d3c5-53a9779e647b"
      },
      "execution_count": 9,
      "outputs": [
        {
          "output_type": "stream",
          "name": "stdout",
          "text": [
            "Epoch 1/40\n",
            "524/524 [==============================] - 235s 446ms/step - loss: 1.6134 - accuracy: 0.4231\n",
            "Epoch 2/40\n",
            "524/524 [==============================] - 228s 436ms/step - loss: 1.1817 - accuracy: 0.5785\n",
            "Epoch 3/40\n",
            "524/524 [==============================] - 230s 440ms/step - loss: 1.0608 - accuracy: 0.6266\n",
            "Epoch 4/40\n",
            "524/524 [==============================] - 232s 443ms/step - loss: 0.9592 - accuracy: 0.6636\n",
            "Epoch 5/40\n",
            "524/524 [==============================] - 234s 447ms/step - loss: 0.9047 - accuracy: 0.6826\n",
            "Epoch 6/40\n",
            "524/524 [==============================] - 227s 434ms/step - loss: 0.8738 - accuracy: 0.6918\n",
            "Epoch 7/40\n",
            "524/524 [==============================] - 224s 428ms/step - loss: 0.8089 - accuracy: 0.7177\n",
            "Epoch 8/40\n",
            "524/524 [==============================] - 226s 432ms/step - loss: 0.7677 - accuracy: 0.7301\n",
            "Epoch 9/40\n",
            "524/524 [==============================] - 226s 431ms/step - loss: 0.7417 - accuracy: 0.7344\n",
            "Epoch 10/40\n",
            "524/524 [==============================] - 228s 436ms/step - loss: 0.7209 - accuracy: 0.7455\n",
            "Epoch 11/40\n",
            "524/524 [==============================] - 226s 431ms/step - loss: 0.6837 - accuracy: 0.7582\n",
            "Epoch 12/40\n",
            "524/524 [==============================] - 228s 435ms/step - loss: 0.6640 - accuracy: 0.7693\n",
            "Epoch 13/40\n",
            "524/524 [==============================] - 243s 464ms/step - loss: 0.6120 - accuracy: 0.7866\n",
            "Epoch 14/40\n",
            "524/524 [==============================] - 255s 487ms/step - loss: 0.6191 - accuracy: 0.7813\n",
            "Epoch 15/40\n",
            "524/524 [==============================] - 260s 495ms/step - loss: 0.5900 - accuracy: 0.7953\n",
            "Epoch 16/40\n",
            "524/524 [==============================] - 260s 495ms/step - loss: 0.5571 - accuracy: 0.8071\n",
            "Epoch 17/40\n",
            "524/524 [==============================] - 259s 494ms/step - loss: 0.5373 - accuracy: 0.8093\n",
            "Epoch 18/40\n",
            "524/524 [==============================] - 258s 493ms/step - loss: 0.5041 - accuracy: 0.8197\n",
            "Epoch 19/40\n",
            "524/524 [==============================] - 260s 496ms/step - loss: 0.4819 - accuracy: 0.8273\n",
            "Epoch 20/40\n",
            "524/524 [==============================] - 259s 495ms/step - loss: 0.4970 - accuracy: 0.8223\n",
            "Epoch 21/40\n",
            "524/524 [==============================] - 257s 490ms/step - loss: 0.4746 - accuracy: 0.8371\n",
            "Epoch 22/40\n",
            "524/524 [==============================] - 259s 495ms/step - loss: 0.4427 - accuracy: 0.8419\n",
            "Epoch 23/40\n",
            "524/524 [==============================] - 260s 496ms/step - loss: 0.4388 - accuracy: 0.8458\n",
            "Epoch 24/40\n",
            "524/524 [==============================] - 260s 496ms/step - loss: 0.4381 - accuracy: 0.8434\n",
            "Epoch 25/40\n",
            "524/524 [==============================] - 259s 494ms/step - loss: 0.4286 - accuracy: 0.8505\n",
            "Epoch 26/40\n",
            "524/524 [==============================] - 259s 494ms/step - loss: 0.4091 - accuracy: 0.8584\n",
            "Epoch 27/40\n",
            "524/524 [==============================] - 258s 493ms/step - loss: 0.4071 - accuracy: 0.8591\n",
            "Epoch 28/40\n",
            "524/524 [==============================] - 258s 493ms/step - loss: 0.3899 - accuracy: 0.8616\n",
            "Epoch 29/40\n",
            "524/524 [==============================] - 260s 496ms/step - loss: 0.3768 - accuracy: 0.8686\n",
            "Epoch 30/40\n",
            "524/524 [==============================] - 260s 497ms/step - loss: 0.3879 - accuracy: 0.8660\n",
            "Epoch 31/40\n",
            "524/524 [==============================] - 264s 504ms/step - loss: 0.3911 - accuracy: 0.8673\n",
            "Epoch 32/40\n",
            "524/524 [==============================] - 259s 494ms/step - loss: 0.3959 - accuracy: 0.8654\n",
            "Epoch 33/40\n",
            "524/524 [==============================] - 261s 497ms/step - loss: 0.3679 - accuracy: 0.8738\n",
            "Epoch 34/40\n",
            "524/524 [==============================] - 261s 497ms/step - loss: 0.3533 - accuracy: 0.8764\n",
            "Epoch 35/40\n",
            "524/524 [==============================] - 260s 497ms/step - loss: 0.3684 - accuracy: 0.8735\n",
            "Epoch 36/40\n",
            "524/524 [==============================] - 262s 499ms/step - loss: 0.3174 - accuracy: 0.8880\n",
            "Epoch 37/40\n",
            "524/524 [==============================] - 260s 497ms/step - loss: 0.4045 - accuracy: 0.8600\n",
            "Epoch 38/40\n",
            "524/524 [==============================] - 261s 498ms/step - loss: 0.3491 - accuracy: 0.8788\n",
            "Epoch 39/40\n",
            "524/524 [==============================] - 261s 498ms/step - loss: 0.3200 - accuracy: 0.8861\n",
            "Epoch 40/40\n",
            "524/524 [==============================] - 261s 499ms/step - loss: 0.3465 - accuracy: 0.8814\n",
            "66/66 [==============================] - 17s 257ms/step - loss: 1.1940 - accuracy: 0.6987\n",
            "Test loss:  1.1940339803695679\n",
            "Test accuracy:  0.6986628174781799\n"
          ]
        }
      ]
    },
    {
      "cell_type": "code",
      "source": [
        "accuracy = train.history['accuracy']\n",
        "loss = train.history['loss']\n",
        "epochs = range(len(accuracy))\n",
        "plt.plot(epochs, accuracy, 'bo', label = 'Training accuracy')\n",
        "plt.plot(epochs, loss, 'b', label = 'Traning loss')\n",
        "plt.show()"
      ],
      "metadata": {
        "id": "n6MlLJbDVPKN",
        "colab": {
          "base_uri": "https://localhost:8080/",
          "height": 430
        },
        "outputId": "0c0ad2fa-f6b7-4958-fe74-43dd1f4b10bd"
      },
      "execution_count": 12,
      "outputs": [
        {
          "output_type": "display_data",
          "data": {
            "text/plain": [
              "<Figure size 640x480 with 1 Axes>"
            ],
            "image/png": "[encoded data removed]"
          },
          "metadata": {}
        }
      ]
    },
    {
      "cell_type": "code",
      "source": [
        "#Save model\n",
        "model.save('/content/drive/MyDrive/OCEAN/MODEL_OCEAN.h5')"
      ],
      "metadata": {
        "id": "omvKXTVAReau"
      },
      "execution_count": 13,
      "outputs": []
    },
    {
      "cell_type": "code",
      "source": [],
      "metadata": {
        "id": "8Z19CI9pR-Zl"
      },
      "execution_count": null,
      "outputs": []
    }
  ]
}