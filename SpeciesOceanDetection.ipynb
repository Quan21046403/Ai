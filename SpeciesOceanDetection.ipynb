{
  "nbformat": 4,
  "nbformat_minor": 0,
  "metadata": {
    "colab": {
      "provenance": [],
      "gpuType": "T4",
      "authorship_tag": "ABX9TyNSVLDtsA6p1haJJ3+oCg2k",
      "include_colab_link": true
    },
    "kernelspec": {
      "name": "python3",
      "display_name": "Python 3"
    },
    "language_info": {
      "name": "python"
    },
    "accelerator": "GPU",
    "gpuClass": "standard"
  },
  "cells": [
    {
      "cell_type": "markdown",
      "metadata": {
        "id": "view-in-github",
        "colab_type": "text"
      },
      "source": [
        "<a href=\"https://colab.research.google.com/github/Quan21046403/Ai/blob/main/SeaAnimalsDetection.ipynb\" target=\"_parent\"><img src=\"https://colab.research.google.com/assets/colab-badge.svg\" alt=\"Open In Colab\"/></a>"
      ]
    },
    {
      "cell_type": "code",
      "execution_count": 9,
      "metadata": {
        "id": "U_3EC2Oiz28b"
      },
      "outputs": [],
      "source": [
        "from os import listdir\n",
        "from numpy import asarray, save\n",
        "from keras.utils import load_img\n",
        "from keras.utils import img_to_array\n",
        "import numpy as np\n",
        "from sklearn.model_selection import train_test_split\n",
        "from keras.datasets import cifar100\n",
        "import matplotlib.pyplot as plt\n",
        "from keras.layers import Dense, Dropout, Flatten, Conv2D, MaxPooling2D, Normalization\n",
        "from keras.models import Sequential, Model\n",
        "from keras import Input\n",
        "from keras.layers import LeakyReLU\n",
        "from keras.optimizers import Adam"
      ]
    },
    {
      "cell_type": "code",
      "source": [
        "from google.colab import drive\n",
        "drive.mount('/content/drive')"
      ],
      "metadata": {
        "colab": {
          "base_uri": "https://localhost:8080/"
        },
        "id": "vq3kxm3P0G27",
        "outputId": "807d44b9-49f7-4a42-e92c-5d343bc0453c"
      },
      "execution_count": 10,
      "outputs": [
        {
          "output_type": "stream",
          "name": "stdout",
          "text": [
            "Drive already mounted at /content/drive; to attempt to forcibly remount, call drive.mount(\"/content/drive\", force_remount=True).\n"
          ]
        }
      ]
    },
    {
      "cell_type": "code",
      "source": [
        "from numpy import asarray\n",
        "\n",
        "folder = '/content/drive/MyDrive/SeaAnimals/'\n",
        "photos, labels = list(), list()\n",
        "for file in listdir(folder):\n",
        "  output = 0.0\n",
        "  if file.startswith('CLOWNFISH'):\n",
        "    output = 0\n",
        "  if file.startswith('CRAB'):\n",
        "    output = 1\n",
        "  if file.startswith('JELLYFISH'):\n",
        "    output = 2\n",
        "  if file.startswith('OTTER'):\n",
        "    output = 3\n",
        "  if file.startswith('PENGUIN'):\n",
        "    output = 4\n",
        "  if file.startswith('SEA_TURTLE'):\n",
        "    output = 5\n",
        "  if file.startswith('SEAGULL'):\n",
        "    output = 6\n",
        "  if file.startswith('SHRIMP'):\n",
        "    output = 7\n",
        "  if file.startswith('STARFISH'):\n",
        "    output = 8\n",
        "  if file.startswith('WHALE'):\n",
        "    output = 9\n",
        "  photo = load_img(folder + file, target_size=(128, 128))\n",
        "  photo = img_to_array(photo)\n",
        "  photos.append(photo)\n",
        "  labels.append(output)\n",
        "\n",
        "photos = asarray(photos)\n",
        "labels = asarray(labels)\n",
        "print(photos.shape, labels.shape)\n",
        "save('/content/drive/MyDrive/SeaAnimals/SEAANIMALS_PHOTOS', photos)\n",
        "save('/content/drive/MyDrive/SeaAnimals/SEAANIMALS_LABELS', labels)"
      ],
      "metadata": {
        "colab": {
          "base_uri": "https://localhost:8080/"
        },
        "id": "JutB7iqf0QBm",
        "outputId": "b215c5ab-be79-4eb2-c7e0-2e77070e93bd"
      },
      "execution_count": 12,
      "outputs": [
        {
          "output_type": "stream",
          "name": "stdout",
          "text": [
            "(4833, 128, 128, 3) (4833,)\n"
          ]
        }
      ]
    },
    {
      "cell_type": "code",
      "source": [
        "# Load images and labels\n",
        "from keras.utils import to_categorical #one hot encoding\n",
        "photos = np.load('/content/drive/MyDrive/SeaAnimals/SEAANIMALS_PHOTOS.npy')\n",
        "labels = np.load('/content/drive/MyDrive/SeaAnimals/SEAANIMALS_LABELS.npy')\n",
        "labels_one_hot = to_categorical(labels)\n",
        "x_train, x_test, y_train, y_test = train_test_split(photos, labels_one_hot, test_size = 0.2, random_state = 128)"
      ],
      "metadata": {
        "id": "8NofN0ba1TYX"
      },
      "execution_count": 13,
      "outputs": []
    },
    {
      "cell_type": "code",
      "source": [
        "model = Sequential()\n",
        "#Convolutional\n",
        "model.add(Conv2D(8, kernel_size= (3,3), activation= 'relu', input_shape = (128,128,3), padding= 'same'))\n",
        "model.add(Conv2D(8, kernel_size= (3,3), activation= 'relu', padding= 'same'))\n",
        "model.add(MaxPooling2D((2,2), padding= 'same'))\n",
        "\n",
        "model.add(Conv2D(16, kernel_size= (3,3), activation= 'relu', padding= 'same'))\n",
        "model.add(Conv2D(16, kernel_size= (3,3), activation= 'relu', padding= 'same'))\n",
        "model.add(MaxPooling2D((2,2), padding= 'same'))\n",
        "\n",
        "model.add(Conv2D(32, kernel_size= (3,3), activation= 'relu', padding= 'same'))\n",
        "model.add(Conv2D(32, kernel_size= (3,3), activation= 'relu', padding= 'same'))\n",
        "model.add(MaxPooling2D((2,2), padding= 'same'))\n",
        "\n",
        "model.add(Conv2D(64, kernel_size= (3,3), activation= 'relu', padding= 'same'))\n",
        "model.add(Conv2D(64, kernel_size= (3,3), activation= 'relu', padding= 'same'))\n",
        "model.add(MaxPooling2D((2,2), padding= 'same'))\n",
        "\n",
        "model.add(Conv2D(64, kernel_size= (2,2), activation= 'relu', padding= 'same'))\n",
        "model.add(Conv2D(64, kernel_size= (2,2), activation= 'relu', padding= 'same'))\n",
        "model.add(MaxPooling2D((2,2), padding= 'same'))\n",
        "\n",
        "# Fully connected layers\n",
        "model.add(Flatten())\n",
        "model.add(Dense(512, activation= 'relu'))\n",
        "model.add(Dropout(0.25))\n",
        "model.add(Dense(512, activation= 'relu'))\n",
        "model.add(Dropout(0.25))\n",
        "model.add(Dense(10, activation= 'softmax'))\n",
        "model.summary()"
      ],
      "metadata": {
        "colab": {
          "base_uri": "https://localhost:8080/"
        },
        "id": "51BoHiFY1n-3",
        "outputId": "31ce26cf-db6f-4f32-d479-2551b7825500"
      },
      "execution_count": 14,
      "outputs": [
        {
          "output_type": "stream",
          "name": "stdout",
          "text": [
            "Model: \"sequential_1\"\n",
            "_________________________________________________________________\n",
            " Layer (type)                Output Shape              Param #   \n",
            "=================================================================\n",
            " conv2d_10 (Conv2D)          (None, 128, 128, 8)       224       \n",
            "                                                                 \n",
            " conv2d_11 (Conv2D)          (None, 128, 128, 8)       584       \n",
            "                                                                 \n",
            " max_pooling2d_5 (MaxPooling  (None, 64, 64, 8)        0         \n",
            " 2D)                                                             \n",
            "                                                                 \n",
            " conv2d_12 (Conv2D)          (None, 64, 64, 16)        1168      \n",
            "                                                                 \n",
            " conv2d_13 (Conv2D)          (None, 64, 64, 16)        2320      \n",
            "                                                                 \n",
            " max_pooling2d_6 (MaxPooling  (None, 32, 32, 16)       0         \n",
            " 2D)                                                             \n",
            "                                                                 \n",
            " conv2d_14 (Conv2D)          (None, 32, 32, 32)        4640      \n",
            "                                                                 \n",
            " conv2d_15 (Conv2D)          (None, 32, 32, 32)        9248      \n",
            "                                                                 \n",
            " max_pooling2d_7 (MaxPooling  (None, 16, 16, 32)       0         \n",
            " 2D)                                                             \n",
            "                                                                 \n",
            " conv2d_16 (Conv2D)          (None, 16, 16, 64)        18496     \n",
            "                                                                 \n",
            " conv2d_17 (Conv2D)          (None, 16, 16, 64)        36928     \n",
            "                                                                 \n",
            " max_pooling2d_8 (MaxPooling  (None, 8, 8, 64)         0         \n",
            " 2D)                                                             \n",
            "                                                                 \n",
            " conv2d_18 (Conv2D)          (None, 8, 8, 64)          16448     \n",
            "                                                                 \n",
            " conv2d_19 (Conv2D)          (None, 8, 8, 64)          16448     \n",
            "                                                                 \n",
            " max_pooling2d_9 (MaxPooling  (None, 4, 4, 64)         0         \n",
            " 2D)                                                             \n",
            "                                                                 \n",
            " flatten_1 (Flatten)         (None, 1024)              0         \n",
            "                                                                 \n",
            " dense_3 (Dense)             (None, 512)               524800    \n",
            "                                                                 \n",
            " dropout_2 (Dropout)         (None, 512)               0         \n",
            "                                                                 \n",
            " dense_4 (Dense)             (None, 512)               262656    \n",
            "                                                                 \n",
            " dropout_3 (Dropout)         (None, 512)               0         \n",
            "                                                                 \n",
            " dense_5 (Dense)             (None, 10)                5130      \n",
            "                                                                 \n",
            "=================================================================\n",
            "Total params: 899,090\n",
            "Trainable params: 899,090\n",
            "Non-trainable params: 0\n",
            "_________________________________________________________________\n"
          ]
        }
      ]
    },
    {
      "cell_type": "code",
      "source": [
        "x_train.shape"
      ],
      "metadata": {
        "colab": {
          "base_uri": "https://localhost:8080/"
        },
        "id": "G6BgS-iJ1rv8",
        "outputId": "daf8a62c-1a46-45dc-ea73-2067afb8cc9a"
      },
      "execution_count": 15,
      "outputs": [
        {
          "output_type": "execute_result",
          "data": {
            "text/plain": [
              "(3866, 128, 128, 3)"
            ]
          },
          "metadata": {},
          "execution_count": 15
        }
      ]
    },
    {
      "cell_type": "code",
      "source": [
        "y_train.shape"
      ],
      "metadata": {
        "colab": {
          "base_uri": "https://localhost:8080/"
        },
        "id": "ERv_VmZl1vrC",
        "outputId": "2e54b028-5e1c-4132-a025-5ee94f1218b4"
      },
      "execution_count": 16,
      "outputs": [
        {
          "output_type": "execute_result",
          "data": {
            "text/plain": [
              "(3866, 10)"
            ]
          },
          "metadata": {},
          "execution_count": 16
        }
      ]
    },
    {
      "cell_type": "code",
      "source": [
        "# Training\n",
        "batch_size= 16\n",
        "epochs= 40   \n",
        "\n",
        "model.compile(optimizer = Adam(), loss = 'categorical_crossentropy', metrics = ['accuracy'])\n",
        "train=model.fit(x_train,y_train,batch_size=batch_size,epochs=epochs,verbose=1)\n",
        "eval = model.evaluate(x_test, y_test)\n",
        "print('Test loss: ', eval[0])\n",
        "print('Test accuracy: ', eval[1])"
      ],
      "metadata": {
        "colab": {
          "base_uri": "https://localhost:8080/"
        },
        "id": "k1M5Piod1xXr",
        "outputId": "450b1a67-e81e-4506-8c37-ec9bc06baea7"
      },
      "execution_count": 17,
      "outputs": [
        {
          "output_type": "stream",
          "name": "stdout",
          "text": [
            "Epoch 1/40\n",
            "242/242 [==============================] - 6s 20ms/step - loss: 1.8949 - accuracy: 0.2807\n",
            "Epoch 2/40\n",
            "242/242 [==============================] - 3s 13ms/step - loss: 1.3481 - accuracy: 0.5207\n",
            "Epoch 3/40\n",
            "242/242 [==============================] - 2s 9ms/step - loss: 1.0494 - accuracy: 0.6487\n",
            "Epoch 4/40\n",
            "242/242 [==============================] - 2s 9ms/step - loss: 0.8923 - accuracy: 0.6930\n",
            "Epoch 5/40\n",
            "242/242 [==============================] - 2s 9ms/step - loss: 0.7569 - accuracy: 0.7375\n",
            "Epoch 6/40\n",
            "242/242 [==============================] - 2s 10ms/step - loss: 0.6917 - accuracy: 0.7610\n",
            "Epoch 7/40\n",
            "242/242 [==============================] - 2s 10ms/step - loss: 0.6392 - accuracy: 0.7794\n",
            "Epoch 8/40\n",
            "242/242 [==============================] - 2s 10ms/step - loss: 0.5789 - accuracy: 0.8076\n",
            "Epoch 9/40\n",
            "242/242 [==============================] - 2s 9ms/step - loss: 0.5278 - accuracy: 0.8238\n",
            "Epoch 10/40\n",
            "242/242 [==============================] - 2s 9ms/step - loss: 0.4954 - accuracy: 0.8345\n",
            "Epoch 11/40\n",
            "242/242 [==============================] - 2s 9ms/step - loss: 0.4840 - accuracy: 0.8391\n",
            "Epoch 12/40\n",
            "242/242 [==============================] - 2s 9ms/step - loss: 0.4338 - accuracy: 0.8533\n",
            "Epoch 13/40\n",
            "242/242 [==============================] - 2s 10ms/step - loss: 0.4136 - accuracy: 0.8515\n",
            "Epoch 14/40\n",
            "242/242 [==============================] - 2s 10ms/step - loss: 0.3805 - accuracy: 0.8681\n",
            "Epoch 15/40\n",
            "242/242 [==============================] - 2s 9ms/step - loss: 0.3487 - accuracy: 0.8836\n",
            "Epoch 16/40\n",
            "242/242 [==============================] - 2s 9ms/step - loss: 0.3422 - accuracy: 0.8872\n",
            "Epoch 17/40\n",
            "242/242 [==============================] - 2s 9ms/step - loss: 0.3854 - accuracy: 0.8712\n",
            "Epoch 18/40\n",
            "242/242 [==============================] - 2s 9ms/step - loss: 0.3147 - accuracy: 0.8976\n",
            "Epoch 19/40\n",
            "242/242 [==============================] - 2s 9ms/step - loss: 0.2799 - accuracy: 0.9089\n",
            "Epoch 20/40\n",
            "242/242 [==============================] - 3s 10ms/step - loss: 0.2603 - accuracy: 0.9097\n",
            "Epoch 21/40\n",
            "242/242 [==============================] - 2s 9ms/step - loss: 0.2990 - accuracy: 0.9014\n",
            "Epoch 22/40\n",
            "242/242 [==============================] - 2s 9ms/step - loss: 0.3123 - accuracy: 0.8950\n",
            "Epoch 23/40\n",
            "242/242 [==============================] - 2s 10ms/step - loss: 0.2491 - accuracy: 0.9159\n",
            "Epoch 24/40\n",
            "242/242 [==============================] - 3s 13ms/step - loss: 0.2758 - accuracy: 0.9128\n",
            "Epoch 25/40\n",
            "242/242 [==============================] - 3s 11ms/step - loss: 0.2489 - accuracy: 0.9214\n",
            "Epoch 26/40\n",
            "242/242 [==============================] - 3s 11ms/step - loss: 0.2652 - accuracy: 0.9172\n",
            "Epoch 27/40\n",
            "242/242 [==============================] - 2s 9ms/step - loss: 0.2624 - accuracy: 0.9149\n",
            "Epoch 28/40\n",
            "242/242 [==============================] - 2s 9ms/step - loss: 0.1917 - accuracy: 0.9322\n",
            "Epoch 29/40\n",
            "242/242 [==============================] - 2s 9ms/step - loss: 0.2070 - accuracy: 0.9325\n",
            "Epoch 30/40\n",
            "242/242 [==============================] - 2s 9ms/step - loss: 0.2248 - accuracy: 0.9214\n",
            "Epoch 31/40\n",
            "242/242 [==============================] - 2s 10ms/step - loss: 0.1755 - accuracy: 0.9421\n",
            "Epoch 32/40\n",
            "242/242 [==============================] - 2s 9ms/step - loss: 0.1906 - accuracy: 0.9392\n",
            "Epoch 33/40\n",
            "242/242 [==============================] - 2s 9ms/step - loss: 0.1580 - accuracy: 0.9459\n",
            "Epoch 34/40\n",
            "242/242 [==============================] - 2s 9ms/step - loss: 0.1778 - accuracy: 0.9449\n",
            "Epoch 35/40\n",
            "242/242 [==============================] - 2s 9ms/step - loss: 0.2768 - accuracy: 0.9188\n",
            "Epoch 36/40\n",
            "242/242 [==============================] - 2s 9ms/step - loss: 0.1402 - accuracy: 0.9509\n",
            "Epoch 37/40\n",
            "242/242 [==============================] - 3s 11ms/step - loss: 0.1557 - accuracy: 0.9514\n",
            "Epoch 38/40\n",
            "242/242 [==============================] - 2s 10ms/step - loss: 0.1933 - accuracy: 0.9382\n",
            "Epoch 39/40\n",
            "242/242 [==============================] - 2s 9ms/step - loss: 0.1316 - accuracy: 0.9589\n",
            "Epoch 40/40\n",
            "242/242 [==============================] - 2s 9ms/step - loss: 0.1895 - accuracy: 0.9397\n",
            "31/31 [==============================] - 1s 12ms/step - loss: 0.8381 - accuracy: 0.8097\n",
            "Test loss:  0.8380839824676514\n",
            "Test accuracy:  0.8097208142280579\n"
          ]
        }
      ]
    },
    {
      "cell_type": "code",
      "source": [
        "test_loss, test_acc = model.evaluate(x_test, y_test)\n",
        "print(\"Accuracy:\", test_acc)\n",
        "print('Loss:', test_loss)"
      ],
      "metadata": {
        "colab": {
          "base_uri": "https://localhost:8080/"
        },
        "id": "zDqvnVhd1znS",
        "outputId": "89301c02-4dc8-4d0a-d263-fd52869f36c8"
      },
      "execution_count": 18,
      "outputs": [
        {
          "output_type": "stream",
          "name": "stdout",
          "text": [
            "31/31 [==============================] - 0s 9ms/step - loss: 0.8381 - accuracy: 0.8097\n",
            "Accuracy: 0.8097208142280579\n",
            "Loss: 0.8380839824676514\n"
          ]
        }
      ]
    },
    {
      "cell_type": "code",
      "source": [
        "accuracy = train.history['accuracy']\n",
        "loss = train.history['loss']\n",
        "epochs = range(len(accuracy))\n",
        "plt.plot(epochs, accuracy, 'bo', label = 'Training accuracy')\n",
        "plt.plot(epochs, loss, 'b', label = 'Traning loss')\n",
        "plt.show()"
      ],
      "metadata": {
        "colab": {
          "base_uri": "https://localhost:8080/",
          "height": 430
        },
        "id": "w4bUqSz2FYd9",
        "outputId": "148f72ba-e5aa-4290-ee3f-ac3b6eb133d1"
      },
      "execution_count": 19,
      "outputs": [
        {
          "output_type": "display_data",
          "data": {
            "text/plain": [
              "<Figure size 640x480 with 1 Axes>"
            ],
            "image/png": "[encoded data removed]"
          },
          "metadata": {}
        }
      ]
    },
    {
      "cell_type": "code",
      "source": [
        "#Save model\n",
        "model.save('/content/drive/MyDrive/AI/MODEL_SEA.h5')"
      ],
      "metadata": {
        "id": "-3BBUziaFaeR"
      },
      "execution_count": 20,
      "outputs": []
    },
    {
      "cell_type": "code",
      "source": [],
      "metadata": {
        "id": "3ExEihSgFj7l"
      },
      "execution_count": null,
      "outputs": []
    }
  ]
}
