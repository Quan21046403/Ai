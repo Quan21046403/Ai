{
  "nbformat": 4,
  "nbformat_minor": 0,
  "metadata": {
    "colab": {
      "provenance": [],
      "authorship_tag": "ABX9TyP/ukaA6oZxzGJhJS10P7Yh",
      "include_colab_link": true
    },
    "kernelspec": {
      "name": "python3",
      "display_name": "Python 3"
    },
    "language_info": {
      "name": "python"
    }
  },
  "cells": [
    {
      "cell_type": "markdown",
      "metadata": {
        "id": "view-in-github",
        "colab_type": "text"
      },
      "source": [
        "<a href=\"https://colab.research.google.com/github/Quan21046403/Ai/blob/main/fuzzyHomework3.ipynb\" target=\"_parent\"><img src=\"https://colab.research.google.com/assets/colab-badge.svg\" alt=\"Open In Colab\"/></a>"
      ]
    },
    {
      "cell_type": "code",
      "execution_count": 1,
      "metadata": {
        "id": "sKkd041N_tTL"
      },
      "outputs": [],
      "source": [
        "#----------Medical Diagnosis System Using Fuzzy Logic----------#"
      ]
    },
    {
      "cell_type": "code",
      "source": [
        "pip install scikit-fuzzy"
      ],
      "metadata": {
        "colab": {
          "base_uri": "https://localhost:8080/"
        },
        "id": "fCkZXvQnAATb",
        "outputId": "aa702cb4-420d-4e28-c624-fc6220bc11bd"
      },
      "execution_count": 2,
      "outputs": [
        {
          "output_type": "stream",
          "name": "stdout",
          "text": [
            "Looking in indexes: https://pypi.org/simple, https://us-python.pkg.dev/colab-wheels/public/simple/\n",
            "Collecting scikit-fuzzy\n",
            "  Downloading scikit-fuzzy-0.4.2.tar.gz (993 kB)\n",
            "\u001b[2K     \u001b[90m━━━━━━━━━━━━━━━━━━━━━━━━━━━━━━━━━━━━━━\u001b[0m \u001b[32m994.0/994.0 KB\u001b[0m \u001b[31m13.1 MB/s\u001b[0m eta \u001b[36m0:00:00\u001b[0m\n",
            "\u001b[?25h  Preparing metadata (setup.py) ... \u001b[?25l\u001b[?25hdone\n",
            "Requirement already satisfied: numpy>=1.6.0 in /usr/local/lib/python3.9/dist-packages (from scikit-fuzzy) (1.22.4)\n",
            "Requirement already satisfied: scipy>=0.9.0 in /usr/local/lib/python3.9/dist-packages (from scikit-fuzzy) (1.10.1)\n",
            "Requirement already satisfied: networkx>=1.9.0 in /usr/local/lib/python3.9/dist-packages (from scikit-fuzzy) (3.0)\n",
            "Building wheels for collected packages: scikit-fuzzy\n",
            "  Building wheel for scikit-fuzzy (setup.py) ... \u001b[?25l\u001b[?25hdone\n",
            "  Created wheel for scikit-fuzzy: filename=scikit_fuzzy-0.4.2-py3-none-any.whl size=894088 sha256=798b367f8c5d21ef666d3570d110598a6a995475b8635fabeb39e202f2ff407b\n",
            "  Stored in directory: /root/.cache/pip/wheels/32/2c/a1/a90a7d7dd8448ec029f298a61f3490275e99b17aa348be675c\n",
            "Successfully built scikit-fuzzy\n",
            "Installing collected packages: scikit-fuzzy\n",
            "Successfully installed scikit-fuzzy-0.4.2\n"
          ]
        }
      ]
    },
    {
      "cell_type": "code",
      "source": [
        "import numpy as np\n",
        "import skfuzzy as fuzz\n",
        "import matplotlib.pyplot as plt\n",
        "from skfuzzy import control as ctrl"
      ],
      "metadata": {
        "id": "8JZ21hAqACyY"
      },
      "execution_count": 3,
      "outputs": []
    },
    {
      "cell_type": "code",
      "source": [
        "# Define input and output variables \n",
        "Fever = ctrl.Antecedent(np.arange(0,10,1), 'Fever')\n",
        "Headache = ctrl.Antecedent(np.arange(0,10,1), 'Headache')\n",
        "Nausea = ctrl.Antecedent(np.arange(0,10,1), 'Nausea')\n",
        "Vomiting = ctrl.Antecedent(np.arange(0,10,1), 'Vomiting')\n",
        "Jaundice = ctrl.Antecedent(np.arange(0,10,1), 'Jaundice')\n",
        "Enlarge_liver = ctrl.Antecedent(np.arange(0,10,1), 'Enlarge_liver')\n",
        "Joint_pain = ctrl.Antecedent(np.arange(0,10,1), 'Joint_pain')\n",
        "Body_weakness = ctrl.Antecedent(np.arange(0,10,1), 'Body_weakness')\n",
        "Dizziness = ctrl.Antecedent(np.arange(0,10,1), 'Dizziness')\n",
        "Loss_of_appetite = ctrl.Antecedent(np.arange(0,10,1), 'Loss_of_appetite')\n",
        "MP = ctrl.Antecedent(np.arange(0,10,1), 'MP')\n",
        "\n",
        "Conclusion = ctrl.Consequent(np.arange(0,10,1), 'Conclusion')\n",
        "\n",
        "# Set membership functions\n",
        "Fever['mild'] = fuzz.trimf(Fever.universe,[0,0,3])\n",
        "Fever['moderate'] = fuzz.trimf(Fever.universe,[0,3,6])\n",
        "Fever['severe'] = fuzz.trimf(Fever.universe,[3,6,8])\n",
        "Fever['very severe'] = fuzz.trimf(Fever.universe,[8,10,10])\n",
        "\n",
        "Headache['mild'] = fuzz.trimf(Headache.universe,[0,0,3])\n",
        "Headache['moderate'] = fuzz.trimf(Headache.universe,[0,3,6])\n",
        "Headache['severe'] = fuzz.trimf(Headache.universe,[3,6,8])\n",
        "Headache['very severe'] = fuzz.trimf(Headache.universe,[8,10,10])\n",
        "\n",
        "Nausea['mild'] = fuzz.trimf(Nausea.universe,[0,0,3])\n",
        "Nausea['moderate'] = fuzz.trimf(Nausea.universe,[0,3,6])\n",
        "Nausea['severe'] = fuzz.trimf(Nausea.universe,[3,6,8])\n",
        "Nausea['very severe'] = fuzz.trimf(Nausea.universe,[8,10,10])\n",
        "\n",
        "Vomiting['mild'] = fuzz.trimf(Vomiting.universe,[0,0,3])\n",
        "Vomiting['moderate'] = fuzz.trimf(Vomiting.universe,[0,3,6])\n",
        "Vomiting['severe'] = fuzz.trimf(Vomiting.universe,[3,6,8])\n",
        "Vomiting['very severe'] = fuzz.trimf(Vomiting.universe,[8,10,10])\n",
        "Jaundice['mild'] = fuzz.trimf(Jaundice.universe,[0,0,3])\n",
        "Jaundice['moderate'] = fuzz.trimf(Jaundice.universe,[0,3,6])\n",
        "Jaundice['severe'] = fuzz.trimf(Jaundice.universe,[3,6,8])\n",
        "Jaundice['very severe'] = fuzz.trimf(Jaundice.universe,[8,10,10])\n",
        "\n",
        "Enlarge_liver['mild'] = fuzz.trimf(Enlarge_liver.universe,[0,0,3])\n",
        "Enlarge_liver['moderate'] = fuzz.trimf(Enlarge_liver.universe,[0,3,6])\n",
        "Enlarge_liver['severe'] = fuzz.trimf(Enlarge_liver.universe,[3,6,8])\n",
        "Enlarge_liver['very severe'] = fuzz.trimf(Enlarge_liver.universe,[8,10,10])\n",
        "\n",
        "Joint_pain['mild'] = fuzz.trimf(Joint_pain.universe,[0,0,3])\n",
        "Joint_pain['moderate'] = fuzz.trimf(Joint_pain.universe,[0,3,6])\n",
        "Joint_pain['severe'] = fuzz.trimf(Joint_pain.universe,[3,6,8])\n",
        "Joint_pain['very severe'] = fuzz.trimf(Joint_pain.universe,[8,10,10])\n",
        "\n",
        "Body_weakness['mild'] = fuzz.trimf(Body_weakness.universe,[0,0,3])\n",
        "Body_weakness['moderate'] = fuzz.trimf(Body_weakness.universe,[0,3,6])\n",
        "Body_weakness['severe'] = fuzz.trimf(Body_weakness.universe,[3,6,8])\n",
        "Body_weakness['very severe'] = fuzz.trimf(Body_weakness.universe,[8,10,10])\n",
        "\n",
        "Dizziness['mild'] = fuzz.trimf(Dizziness.universe,[0,0,3])\n",
        "Dizziness['moderate'] = fuzz.trimf(Dizziness.universe,[0,3,6])\n",
        "Dizziness['severe'] = fuzz.trimf(Dizziness.universe,[3,6,8])\n",
        "Dizziness['very severe'] = fuzz.trimf(Dizziness.universe,[8,10,10])\n",
        "\n",
        "Loss_of_appetite['mild'] = fuzz.trimf(Loss_of_appetite.universe,[0,0,3])\n",
        "Loss_of_appetite['moderate'] = fuzz.trimf(Loss_of_appetite.universe,[0,3,6])\n",
        "Loss_of_appetite['severe'] = fuzz.trimf(Loss_of_appetite.universe,[3,6,8])\n",
        "Loss_of_appetite['very severe'] = fuzz.trimf(Loss_of_appetite.universe,[8,10,10])\n",
        "\n",
        "MP['mild'] = fuzz.trimf(MP.universe,[0,0,3])\n",
        "MP['moderate'] = fuzz.trimf(MP.universe,[0,3,6])\n",
        "MP['severe'] = fuzz.trimf(MP.universe,[3,6,8])\n",
        "MP['very severe'] = fuzz.trimf(MP.universe,[8,10,10])\n",
        "Conclusion['mild'] = fuzz.trimf(Conclusion.universe,[0,0,3])\n",
        "Conclusion['moderate'] = fuzz.trimf(Conclusion.universe,[0,3,6])\n",
        "Conclusion['severe'] = fuzz.trimf(Conclusion.universe,[3,6,8])\n",
        "Conclusion['very severe'] = fuzz.trimf(Conclusion.universe,[8,10,10])\n",
        "\n",
        "#Fever.view()\n",
        "#Headache.view()\n",
        "#Nausea.view()\n",
        "#Vomiting.view()\n",
        "#Jaundice.view()\n",
        "#Enlarge_liver.view()\n",
        "#Joint_pain.view()\n",
        "#Body_weakness.view()\n",
        "#Dizziness.view()\n",
        "#Loss_of_appetite.view()\n",
        "#MP.view()\n",
        "#Conclusion.view()\n",
        "# Rule \n",
        "rule1 = ctrl.Rule(Fever['mild'] & Headache['mild'] & Nausea['mild'] & Vomiting['mild'] & Jaundice['mild'] & Enlarge_liver['mild'] & Joint_pain['mild'] & Body_weakness['mild'] & Dizziness['severe'] & Loss_of_appetite['mild'] & MP['mild'], Conclusion['mild'])\n",
        "rule2 = ctrl.Rule(Fever['moderate'] & Headache['mild'] & Nausea['mild'] & Vomiting['mild'] & Jaundice['mild'] & Enlarge_liver['mild'] & Joint_pain['moderate'] & Body_weakness['moderate'] & Dizziness['severe'] & Loss_of_appetite['severe'] & MP['moderate'], Conclusion['moderate'])\n",
        "rule3 = ctrl.Rule(Fever['severe'] & Headache['moderate'] & Nausea['mild'] & Vomiting['mild'] & Jaundice['mild'] & Enlarge_liver['mild'] & Joint_pain['mild'] & Body_weakness['severe'] & Dizziness['severe'] & Loss_of_appetite['severe'] & MP['moderate'], Conclusion['severe'])\n",
        "rule4 = ctrl.Rule(Fever['very severe'] & Headache['mild'] & Nausea['mild'] & Vomiting['mild'] & Jaundice['mild'] & Enlarge_liver['mild'] & Joint_pain['severe'] & Body_weakness['severe'] & Dizziness['mild'] & Loss_of_appetite['mild'] & MP['severe'], Conclusion['very severe'])\n",
        "rule5 = ctrl.Rule(Fever['moderate'] & Headache['mild'] & Nausea['mild'] & Vomiting['moderate'] & Jaundice['mild'] & Enlarge_liver['mild'] & Joint_pain['moderate'] & Body_weakness['moderate'] & Dizziness['moderate'] & Loss_of_appetite['severe'] & MP['moderate'], Conclusion['moderate'])\n",
        "rule6 = ctrl.Rule(Fever['mild'] & Headache['moderate'] & Nausea['moderate'] & Vomiting['mild'] & Jaundice['mild'] & Enlarge_liver['mild'] & Joint_pain['mild'] & Body_weakness['mild'] & Dizziness['moderate'] & Loss_of_appetite['mild'] & MP['mild'], Conclusion['mild'])\n",
        "rule7 = ctrl.Rule(Fever['mild'] & Headache['mild'] & Nausea['moderate'] & Vomiting['moderate'] & Jaundice['mild'] & Enlarge_liver['mild'] & Joint_pain['severe'] & Body_weakness['severe'] & Dizziness['moderate'] & Loss_of_appetite['moderate'] & MP['moderate'], Conclusion['severe'])\n",
        "rule8 = ctrl.Rule(Fever['moderate'] & Headache['moderate'] & Nausea['moderate'] & Vomiting['moderate'] & Jaundice['moderate'] & Enlarge_liver['moderate'] & Joint_pain['moderate'] & Body_weakness['moderate'] & Dizziness['moderate'] & Loss_of_appetite['moderate'] & MP['moderate'], Conclusion['moderate'])\n",
        "rule9 = ctrl.Rule(Fever['moderate'] & Headache['mild'] & Nausea['moderate'] & Vomiting['moderate'] & Jaundice['mild'] & Enlarge_liver['severe'] & Joint_pain['moderate'] & Body_weakness['moderate'] & Dizziness['severe'] & Loss_of_appetite['moderate'] & MP['moderate'], Conclusion['moderate'])\n",
        "rule10 = ctrl.Rule(Fever['mild'] & Headache['mild'] & Nausea['moderate'] & Vomiting['moderate'] & Jaundice['mild'] & Enlarge_liver['moderate'] & Joint_pain['mild'] & Body_weakness['mild'] & Dizziness['mild'] & Loss_of_appetite['mild'] & MP['mild'], Conclusion['mild'])\n",
        "rule11 = ctrl.Rule(Fever['severe'] & Headache['severe'] & Nausea['severe'] & Vomiting['severe'] & Jaundice['severe'] & Enlarge_liver['severe'] & Joint_pain['severe'] & Body_weakness['very severe'] & Dizziness['severe'] & Loss_of_appetite['severe'] & MP['moderate'], Conclusion['very severe'])\n",
        "rule12 = ctrl.Rule(Fever['moderate'] & Headache['severe'] & Nausea['moderate'] & Vomiting['severe'] & Jaundice['moderate'] & Enlarge_liver['severe'] & Joint_pain['moderate'] & Body_weakness['mild'] & Dizziness['moderate'] & Loss_of_appetite['severe'] & MP['mild'], Conclusion['mild'])\n",
        "rule13 = ctrl.Rule(Fever['mild'] & Headache['moderate'] & Nausea['moderate'] & Vomiting['moderate'] & Jaundice['mild'] & Enlarge_liver['mild'] & Joint_pain['mild'] & Body_weakness['moderate'] & Dizziness['mild'] & Loss_of_appetite['moderate'] & MP['moderate'], Conclusion['moderate'])\n",
        "rule14 = ctrl.Rule(Fever['severe'] & Headache['severe'] & Nausea['moderate'] & Vomiting['severe'] & Jaundice['severe'] & Enlarge_liver['severe'] & Joint_pain['severe'] & Body_weakness['severe'] & Dizziness['moderate'] & Loss_of_appetite['moderate'] & MP['severe'], Conclusion['severe'])\n",
        "rule15 = ctrl.Rule(Fever['mild'] & Headache['mild'] & Nausea['mild'] & Vomiting['moderate'] & Jaundice['mild'] & Enlarge_liver['mild'] & Joint_pain['mild'] & Body_weakness['severe'] & Dizziness['mild'] & Loss_of_appetite['severe'] & MP['moderate'], Conclusion['severe'])\n",
        "rule16 = ctrl.Rule(Fever['very severe'] & Headache['moderate'] & Nausea['mild'] & Vomiting['moderate'] & Jaundice['severe'] & Enlarge_liver['moderate'] & Joint_pain['mild'] & Body_weakness['very severe'] & Dizziness['severe'] & Loss_of_appetite['mild'] & MP['moderate'], Conclusion['very severe'])\n",
        "rule17 = ctrl.Rule(Fever['mild'] & Headache['very severe'] & Nausea['moderate'] & Vomiting['moderate'] & Jaundice['mild'] & Enlarge_liver['moderate'] & Joint_pain['mild'] & Body_weakness['moderate'] & Dizziness['very severe'] & Loss_of_appetite['mild'] & MP['moderate'], Conclusion['very severe'])\n",
        "rule18 = ctrl.Rule(Fever['moderate'] & Headache['very severe'] & Nausea['very severe'] & Vomiting['mild'] & Jaundice['severe'] & Enlarge_liver['severe'] & Joint_pain['moderate'] & Body_weakness['severe'] & Dizziness['very severe'] & Loss_of_appetite['very severe'] & MP['severe'], Conclusion['very severe'])\n",
        "rule19 = ctrl.Rule(Fever['moderate'] & Headache['moderate'] & Nausea['moderate'] & Vomiting['moderate'] & Jaundice['mild'] & Enlarge_liver['mild'] & Joint_pain['moderate'] & Body_weakness['moderate'] & Dizziness['moderate'] & Loss_of_appetite['moderate'] & MP['moderate'], Conclusion['moderate'])\n",
        "rule20 = ctrl.Rule(Fever['very severe'] & Headache['severe'] & Nausea['severe'] & Vomiting['severe'] & Jaundice['severe'] & Enlarge_liver['severe'] & Joint_pain['severe'] & Body_weakness['severe'] & Dizziness['severe'] & Loss_of_appetite['severe'] & MP['moderate'], Conclusion['very severe'])\n",
        "concluding_ctrl = ctrl.ControlSystem([rule1,rule2,rule3,rule4,rule5,rule6,rule7,rule8,rule9,rule10,rule11,rule12,rule13,rule14,rule15,rule16,rule17,rule18,rule19,rule20])\n",
        "concluding = ctrl.ControlSystemSimulation(concluding_ctrl)\n",
        "\n",
        "#input\n",
        "concluding.input['Fever'] = 2\n",
        "concluding.input['Headache'] = 3\n",
        "concluding.input['Nausea'] = 2\n",
        "concluding.input['Vomiting'] = 3\n",
        "concluding.input['Jaundice'] = 2\n",
        "concluding.input['Enlarge_liver'] = 3\n",
        "concluding.input['Joint_pain'] = 2\n",
        "concluding.input['Body_weakness'] = 2\n",
        "concluding.input['Dizziness'] = 3\n",
        "concluding.input['Loss_of_appetite'] = 2\n",
        "concluding.input['MP'] = 5\n",
        "\n",
        "concluding.compute()\n",
        "\n",
        "print('Percent Power:',round(concluding.output['Conclusion'],3))\n",
        "Conclusion.view(sim=concluding)"
      ],
      "metadata": {
        "colab": {
          "base_uri": "https://localhost:8080/",
          "height": 298
        },
        "id": "Kk3SnxtUAHyK",
        "outputId": "2202fe2e-67b4-4043-a62c-830bd8bc3968"
      },
      "execution_count": 5,
      "outputs": [
        {
          "output_type": "stream",
          "name": "stdout",
          "text": [
            "Percent Power: 3.0\n"
          ]
        },
        {
          "output_type": "display_data",
          "data": {
            "text/plain": [
              "<Figure size 432x288 with 1 Axes>"
            ],
            "image/png": "[encoded data removed]"
          },
          "metadata": {
            "needs_background": "light"
          }
        }
      ]
    },
    {
      "cell_type": "code",
      "source": [],
      "metadata": {
        "id": "C_ZzydUcAcHM"
      },
      "execution_count": null,
      "outputs": []
    }
  ]
}