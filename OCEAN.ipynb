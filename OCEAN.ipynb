{
  "nbformat": 4,
  "nbformat_minor": 0,
  "metadata": {
    "colab": {
      "provenance": [],
      "gpuType": "T4",
      "authorship_tag": "ABX9TyMQoddKUVZhBtxbmSqsiY4m",
      "include_colab_link": true
    },
    "kernelspec": {
      "name": "python3",
      "display_name": "Python 3"
    },
    "language_info": {
      "name": "python"
    },
    "accelerator": "GPU",
    "gpuClass": "standard"
  },
  "cells": [
    {
      "cell_type": "markdown",
      "metadata": {
        "id": "view-in-github",
        "colab_type": "text"
      },
      "source": [
        "<a href=\"https://colab.research.google.com/github/Quan21046403/Ai/blob/main/OCEAN.ipynb\" target=\"_parent\"><img src=\"https://colab.research.google.com/assets/colab-badge.svg\" alt=\"Open In Colab\"/></a>"
      ]
    },
    {
      "cell_type": "code",
      "execution_count": 1,
      "metadata": {
        "id": "8adYNigEmjeW"
      },
      "outputs": [],
      "source": [
        "from os import listdir\n",
        "from numpy import asarray, save\n",
        "from keras.utils import load_img\n",
        "from keras.utils import img_to_array\n",
        "import numpy as np\n",
        "from sklearn.model_selection import train_test_split\n",
        "from keras.datasets import cifar100\n",
        "import matplotlib.pyplot as plt\n",
        "from keras.layers import Dense, Dropout, Flatten, Conv2D, MaxPooling2D, Normalization\n",
        "from keras.models import Sequential, Model\n",
        "from keras import Input\n",
        "from keras.layers import LeakyReLU\n",
        "from keras.optimizers import Adam\n",
        "     "
      ]
    },
    {
      "cell_type": "code",
      "source": [
        "from google.colab import drive\n",
        "drive.mount('/content/drive')"
      ],
      "metadata": {
        "colab": {
          "base_uri": "https://localhost:8080/"
        },
        "id": "Vkk4ozdimtDz",
        "outputId": "9b3c65fe-e904-415d-936e-bb67f669b5c9"
      },
      "execution_count": 2,
      "outputs": [
        {
          "output_type": "stream",
          "name": "stdout",
          "text": [
            "Mounted at /content/drive\n"
          ]
        }
      ]
    },
    {
      "cell_type": "code",
      "source": [
        "from numpy import asarray\n",
        "import h5py\n",
        "folder = '/content/drive/MyDrive/OCEAN/'\n",
        "photos, labels = list(), list()\n",
        "for file in listdir(folder):\n",
        "  output = 0.0\n",
        "  if file.startswith('BACHTUOC'):\n",
        "    output = 0\n",
        "  if file.startswith('CADUOI'):\n",
        "    output = 1\n",
        "  if file.startswith('CAHE'):\n",
        "    output = 2\n",
        "  if file.startswith('CANGUA'):\n",
        "    output = 3\n",
        "  if file.startswith('CANHCUT'):\n",
        "    output = 4\n",
        "  if file.startswith('CAVOI'):\n",
        "    output = 5\n",
        "  if file.startswith('CUA'):\n",
        "    output = 6\n",
        "  if file.startswith('RUABIEN'):\n",
        "    output = 7\n",
        "  if file.startswith('SAOBIEN'):\n",
        "    output = 8\n",
        "  if file.startswith('SUA'):\n",
        "    output = 9\n",
        "  photo = load_img(folder + file, target_size=(128, 128))\n",
        "  photo = img_to_array(photo)\n",
        "  photos.append(photo)\n",
        "  labels.append(output)\n",
        "\n",
        "photos = asarray(photos)\n",
        "labels = asarray(labels)\n",
        "print(photos.shape, labels.shape)\n",
        "save('/content/drive/MyDrive/OCEAN/OCEAN_PHOTOS', photos)\n",
        "save('/content/drive/MyDrive/OCEAN/OCEAN_LABELS', labels)"
      ],
      "metadata": {
        "id": "pkRwM5GHmz_u",
        "colab": {
          "base_uri": "https://localhost:8080/"
        },
        "outputId": "b20aa91f-0a6c-414b-86dd-b069f4ab1192"
      },
      "execution_count": 3,
      "outputs": [
        {
          "output_type": "stream",
          "name": "stdout",
          "text": [
            "(10468, 128, 128, 3) (10468,)\n"
          ]
        }
      ]
    },
    {
      "cell_type": "code",
      "source": [
        "# Load images and labels\n",
        "from keras.utils import to_categorical #one hot encoding\n",
        "photos = np.load('/content/drive/MyDrive/OCEAN/OCEAN_PHOTOS.npy')\n",
        "labels = np.load('/content/drive/MyDrive/OCEAN/OCEAN_LABELS.npy')\n",
        "labels_one_hot = to_categorical(labels)\n",
        "x_train, x_test, y_train, y_test = train_test_split(photos, labels_one_hot, test_size = 0.2, random_state = 128)"
      ],
      "metadata": {
        "id": "D_zgl9oAaT07"
      },
      "execution_count": 4,
      "outputs": []
    },
    {
      "cell_type": "code",
      "source": [
        "model = Sequential()\n",
        "#Convolutional\n",
        "model.add(Conv2D(8, kernel_size= (3,3), activation= 'relu', input_shape = (128,128,3), padding= 'same'))\n",
        "model.add(Conv2D(8, kernel_size= (3,3), activation= 'relu', padding= 'same'))\n",
        "model.add(MaxPooling2D((2,2), padding= 'same'))\n",
        "\n",
        "model.add(Conv2D(16, kernel_size= (3,3), activation= 'relu', padding= 'same'))\n",
        "model.add(Conv2D(16, kernel_size= (3,3), activation= 'relu', padding= 'same'))\n",
        "model.add(MaxPooling2D((2,2), padding= 'same'))\n",
        "\n",
        "model.add(Conv2D(32, kernel_size= (3,3), activation= 'relu', padding= 'same'))\n",
        "model.add(Conv2D(32, kernel_size= (3,3), activation= 'relu', padding= 'same'))\n",
        "model.add(MaxPooling2D((2,2), padding= 'same'))\n",
        "\n",
        "model.add(Conv2D(64, kernel_size= (3,3), activation= 'relu', padding= 'same'))\n",
        "model.add(Conv2D(64, kernel_size= (3,3), activation= 'relu', padding= 'same'))\n",
        "model.add(MaxPooling2D((2,2), padding= 'same'))\n",
        "\n",
        "model.add(Conv2D(64, kernel_size= (2,2), activation= 'relu', padding= 'same'))\n",
        "model.add(Conv2D(64, kernel_size= (2,2), activation= 'relu', padding= 'same'))\n",
        "model.add(MaxPooling2D((2,2), padding= 'same'))\n",
        "\n",
        "# Fully connected layers\n",
        "model.add(Flatten())\n",
        "model.add(Dense(512, activation= 'relu'))\n",
        "model.add(Dropout(0.25))\n",
        "model.add(Dense(512, activation= 'relu'))\n",
        "model.add(Dropout(0.25))\n",
        "model.add(Dense(10, activation= 'softmax'))\n",
        "model.summary()"
      ],
      "metadata": {
        "colab": {
          "base_uri": "https://localhost:8080/"
        },
        "id": "EXcs3ENublzC",
        "outputId": "0f438ccc-f7bb-4f44-f9f2-47b37d3ffb0f"
      },
      "execution_count": 5,
      "outputs": [
        {
          "output_type": "stream",
          "name": "stdout",
          "text": [
            "Model: \"sequential\"\n",
            "_________________________________________________________________\n",
            " Layer (type)                Output Shape              Param #   \n",
            "=================================================================\n",
            " conv2d (Conv2D)             (None, 128, 128, 8)       224       \n",
            "                                                                 \n",
            " conv2d_1 (Conv2D)           (None, 128, 128, 8)       584       \n",
            "                                                                 \n",
            " max_pooling2d (MaxPooling2D  (None, 64, 64, 8)        0         \n",
            " )                                                               \n",
            "                                                                 \n",
            " conv2d_2 (Conv2D)           (None, 64, 64, 16)        1168      \n",
            "                                                                 \n",
            " conv2d_3 (Conv2D)           (None, 64, 64, 16)        2320      \n",
            "                                                                 \n",
            " max_pooling2d_1 (MaxPooling  (None, 32, 32, 16)       0         \n",
            " 2D)                                                             \n",
            "                                                                 \n",
            " conv2d_4 (Conv2D)           (None, 32, 32, 32)        4640      \n",
            "                                                                 \n",
            " conv2d_5 (Conv2D)           (None, 32, 32, 32)        9248      \n",
            "                                                                 \n",
            " max_pooling2d_2 (MaxPooling  (None, 16, 16, 32)       0         \n",
            " 2D)                                                             \n",
            "                                                                 \n",
            " conv2d_6 (Conv2D)           (None, 16, 16, 64)        18496     \n",
            "                                                                 \n",
            " conv2d_7 (Conv2D)           (None, 16, 16, 64)        36928     \n",
            "                                                                 \n",
            " max_pooling2d_3 (MaxPooling  (None, 8, 8, 64)         0         \n",
            " 2D)                                                             \n",
            "                                                                 \n",
            " conv2d_8 (Conv2D)           (None, 8, 8, 64)          16448     \n",
            "                                                                 \n",
            " conv2d_9 (Conv2D)           (None, 8, 8, 64)          16448     \n",
            "                                                                 \n",
            " max_pooling2d_4 (MaxPooling  (None, 4, 4, 64)         0         \n",
            " 2D)                                                             \n",
            "                                                                 \n",
            " flatten (Flatten)           (None, 1024)              0         \n",
            "                                                                 \n",
            " dense (Dense)               (None, 512)               524800    \n",
            "                                                                 \n",
            " dropout (Dropout)           (None, 512)               0         \n",
            "                                                                 \n",
            " dense_1 (Dense)             (None, 512)               262656    \n",
            "                                                                 \n",
            " dropout_1 (Dropout)         (None, 512)               0         \n",
            "                                                                 \n",
            " dense_2 (Dense)             (None, 10)                5130      \n",
            "                                                                 \n",
            "=================================================================\n",
            "Total params: 899,090\n",
            "Trainable params: 899,090\n",
            "Non-trainable params: 0\n",
            "_________________________________________________________________\n"
          ]
        }
      ]
    },
    {
      "cell_type": "code",
      "source": [
        "x_train.shape"
      ],
      "metadata": {
        "colab": {
          "base_uri": "https://localhost:8080/"
        },
        "id": "C3Z0SuTObq4J",
        "outputId": "13103278-34d9-4a11-fd0e-03d3a37d1184"
      },
      "execution_count": 6,
      "outputs": [
        {
          "output_type": "execute_result",
          "data": {
            "text/plain": [
              "(8374, 128, 128, 3)"
            ]
          },
          "metadata": {},
          "execution_count": 6
        }
      ]
    },
    {
      "cell_type": "code",
      "source": [
        "y_train.shape"
      ],
      "metadata": {
        "colab": {
          "base_uri": "https://localhost:8080/"
        },
        "id": "FmsAdJOibu70",
        "outputId": "290477ad-2ca1-4973-dc9e-4ce8ae55879e"
      },
      "execution_count": 7,
      "outputs": [
        {
          "output_type": "execute_result",
          "data": {
            "text/plain": [
              "(8374, 10)"
            ]
          },
          "metadata": {},
          "execution_count": 7
        }
      ]
    },
    {
      "cell_type": "code",
      "source": [
        "# Training\n",
        "batch_size= 16\n",
        "epochs= 80   \n",
        "\n",
        "model.compile(optimizer = Adam(), loss = 'categorical_crossentropy', metrics = ['accuracy'])\n",
        "train=model.fit(x_train,y_train,batch_size=batch_size,epochs=epochs,verbose=1)\n",
        "eval = model.evaluate(x_test, y_test)\n",
        "print('Test loss: ', eval[0])\n",
        "print('Test accuracy: ', eval[1])"
      ],
      "metadata": {
        "colab": {
          "base_uri": "https://localhost:8080/"
        },
        "id": "VrW9WJkTbwcN",
        "outputId": "6106ffb8-821f-4a08-c4b1-9524013cad68"
      },
      "execution_count": 8,
      "outputs": [
        {
          "output_type": "stream",
          "name": "stdout",
          "text": [
            "Epoch 1/80\n",
            "524/524 [==============================] - 17s 10ms/step - loss: 1.6603 - accuracy: 0.3857\n",
            "Epoch 2/80\n",
            "524/524 [==============================] - 5s 9ms/step - loss: 1.1754 - accuracy: 0.5816\n",
            "Epoch 3/80\n",
            "524/524 [==============================] - 5s 10ms/step - loss: 1.0717 - accuracy: 0.6127\n",
            "Epoch 4/80\n",
            "524/524 [==============================] - 5s 10ms/step - loss: 1.0102 - accuracy: 0.6388\n",
            "Epoch 5/80\n",
            "524/524 [==============================] - 5s 10ms/step - loss: 0.9462 - accuracy: 0.6655\n",
            "Epoch 6/80\n",
            "524/524 [==============================] - 5s 9ms/step - loss: 0.8934 - accuracy: 0.6834\n",
            "Epoch 7/80\n",
            "524/524 [==============================] - 5s 9ms/step - loss: 0.8463 - accuracy: 0.6994\n",
            "Epoch 8/80\n",
            "524/524 [==============================] - 5s 10ms/step - loss: 0.8124 - accuracy: 0.7112\n",
            "Epoch 9/80\n",
            "524/524 [==============================] - 5s 9ms/step - loss: 0.8022 - accuracy: 0.7151\n",
            "Epoch 10/80\n",
            "524/524 [==============================] - 5s 10ms/step - loss: 0.7380 - accuracy: 0.7324\n",
            "Epoch 11/80\n",
            "524/524 [==============================] - 6s 11ms/step - loss: 0.6982 - accuracy: 0.7504\n",
            "Epoch 12/80\n",
            "524/524 [==============================] - 5s 9ms/step - loss: 0.6788 - accuracy: 0.7594\n",
            "Epoch 13/80\n",
            "524/524 [==============================] - 6s 11ms/step - loss: 0.6500 - accuracy: 0.7712\n",
            "Epoch 14/80\n",
            "524/524 [==============================] - 5s 10ms/step - loss: 0.6157 - accuracy: 0.7810\n",
            "Epoch 15/80\n",
            "524/524 [==============================] - 5s 9ms/step - loss: 0.6160 - accuracy: 0.7804\n",
            "Epoch 16/80\n",
            "524/524 [==============================] - 5s 10ms/step - loss: 0.5502 - accuracy: 0.8024\n",
            "Epoch 17/80\n",
            "524/524 [==============================] - 5s 9ms/step - loss: 0.5375 - accuracy: 0.8080\n",
            "Epoch 18/80\n",
            "524/524 [==============================] - 5s 9ms/step - loss: 0.5061 - accuracy: 0.8210\n",
            "Epoch 19/80\n",
            "524/524 [==============================] - 5s 10ms/step - loss: 0.5008 - accuracy: 0.8198\n",
            "Epoch 20/80\n",
            "524/524 [==============================] - 5s 9ms/step - loss: 0.4906 - accuracy: 0.8253\n",
            "Epoch 21/80\n",
            "524/524 [==============================] - 5s 10ms/step - loss: 0.4682 - accuracy: 0.8317\n",
            "Epoch 22/80\n",
            "524/524 [==============================] - 5s 10ms/step - loss: 0.4375 - accuracy: 0.8422\n",
            "Epoch 23/80\n",
            "524/524 [==============================] - 5s 9ms/step - loss: 0.4376 - accuracy: 0.8413\n",
            "Epoch 24/80\n",
            "524/524 [==============================] - 5s 10ms/step - loss: 0.4297 - accuracy: 0.8463\n",
            "Epoch 25/80\n",
            "524/524 [==============================] - 5s 9ms/step - loss: 0.4077 - accuracy: 0.8548\n",
            "Epoch 26/80\n",
            "524/524 [==============================] - 5s 9ms/step - loss: 0.3819 - accuracy: 0.8628\n",
            "Epoch 27/80\n",
            "524/524 [==============================] - 5s 10ms/step - loss: 0.3814 - accuracy: 0.8649\n",
            "Epoch 28/80\n",
            "524/524 [==============================] - 5s 9ms/step - loss: 0.3626 - accuracy: 0.8726\n",
            "Epoch 29/80\n",
            "524/524 [==============================] - 5s 9ms/step - loss: 0.3535 - accuracy: 0.8728\n",
            "Epoch 30/80\n",
            "524/524 [==============================] - 5s 10ms/step - loss: 0.3539 - accuracy: 0.8747\n",
            "Epoch 31/80\n",
            "524/524 [==============================] - 5s 9ms/step - loss: 0.3096 - accuracy: 0.8920\n",
            "Epoch 32/80\n",
            "524/524 [==============================] - 5s 10ms/step - loss: 0.3479 - accuracy: 0.8805\n",
            "Epoch 33/80\n",
            "524/524 [==============================] - 5s 10ms/step - loss: 0.3536 - accuracy: 0.8733\n",
            "Epoch 34/80\n",
            "524/524 [==============================] - 5s 9ms/step - loss: 0.3395 - accuracy: 0.8823\n",
            "Epoch 35/80\n",
            "524/524 [==============================] - 5s 10ms/step - loss: 0.2956 - accuracy: 0.8929\n",
            "Epoch 36/80\n",
            "524/524 [==============================] - 5s 9ms/step - loss: 0.2929 - accuracy: 0.8973\n",
            "Epoch 37/80\n",
            "524/524 [==============================] - 5s 9ms/step - loss: 0.3023 - accuracy: 0.8947\n",
            "Epoch 38/80\n",
            "524/524 [==============================] - 5s 10ms/step - loss: 0.3053 - accuracy: 0.8932\n",
            "Epoch 39/80\n",
            "524/524 [==============================] - 5s 9ms/step - loss: 0.2563 - accuracy: 0.9104\n",
            "Epoch 40/80\n",
            "524/524 [==============================] - 5s 9ms/step - loss: 0.2991 - accuracy: 0.8960\n",
            "Epoch 41/80\n",
            "524/524 [==============================] - 5s 10ms/step - loss: 0.3573 - accuracy: 0.8799\n",
            "Epoch 42/80\n",
            "524/524 [==============================] - 5s 9ms/step - loss: 0.2809 - accuracy: 0.9052\n",
            "Epoch 43/80\n",
            "524/524 [==============================] - 5s 10ms/step - loss: 0.2809 - accuracy: 0.9016\n",
            "Epoch 44/80\n",
            "524/524 [==============================] - 5s 10ms/step - loss: 0.2658 - accuracy: 0.9096\n",
            "Epoch 45/80\n",
            "524/524 [==============================] - 5s 9ms/step - loss: 0.2830 - accuracy: 0.9014\n",
            "Epoch 46/80\n",
            "524/524 [==============================] - 5s 10ms/step - loss: 0.2384 - accuracy: 0.9198\n",
            "Epoch 47/80\n",
            "524/524 [==============================] - 5s 9ms/step - loss: 0.2788 - accuracy: 0.9057\n",
            "Epoch 48/80\n",
            "524/524 [==============================] - 5s 9ms/step - loss: 0.3025 - accuracy: 0.8942\n",
            "Epoch 49/80\n",
            "524/524 [==============================] - 5s 10ms/step - loss: 0.2776 - accuracy: 0.9049\n",
            "Epoch 50/80\n",
            "524/524 [==============================] - 5s 9ms/step - loss: 0.2769 - accuracy: 0.9058\n",
            "Epoch 51/80\n",
            "524/524 [==============================] - 5s 9ms/step - loss: 0.2738 - accuracy: 0.9046\n",
            "Epoch 52/80\n",
            "524/524 [==============================] - 5s 10ms/step - loss: 0.2803 - accuracy: 0.9094\n",
            "Epoch 53/80\n",
            "524/524 [==============================] - 5s 10ms/step - loss: 0.3031 - accuracy: 0.8999\n",
            "Epoch 54/80\n",
            "524/524 [==============================] - 5s 10ms/step - loss: 0.2551 - accuracy: 0.9101\n",
            "Epoch 55/80\n",
            "524/524 [==============================] - 5s 9ms/step - loss: 0.2506 - accuracy: 0.9132\n",
            "Epoch 56/80\n",
            "524/524 [==============================] - 5s 9ms/step - loss: 0.2602 - accuracy: 0.9133\n",
            "Epoch 57/80\n",
            "524/524 [==============================] - 5s 10ms/step - loss: 0.2022 - accuracy: 0.9283\n",
            "Epoch 58/80\n",
            "524/524 [==============================] - 5s 9ms/step - loss: 0.2864 - accuracy: 0.9064\n",
            "Epoch 59/80\n",
            "524/524 [==============================] - 5s 9ms/step - loss: 0.2391 - accuracy: 0.9209\n",
            "Epoch 60/80\n",
            "524/524 [==============================] - 5s 10ms/step - loss: 0.2622 - accuracy: 0.9135\n",
            "Epoch 61/80\n",
            "524/524 [==============================] - 5s 9ms/step - loss: 0.2228 - accuracy: 0.9233\n",
            "Epoch 62/80\n",
            "524/524 [==============================] - 5s 9ms/step - loss: 0.2663 - accuracy: 0.9106\n",
            "Epoch 63/80\n",
            "524/524 [==============================] - 5s 10ms/step - loss: 0.2526 - accuracy: 0.9177\n",
            "Epoch 64/80\n",
            "524/524 [==============================] - 5s 9ms/step - loss: 0.2407 - accuracy: 0.9192\n",
            "Epoch 65/80\n",
            "524/524 [==============================] - 5s 10ms/step - loss: 0.2914 - accuracy: 0.9055\n",
            "Epoch 66/80\n",
            "524/524 [==============================] - 5s 10ms/step - loss: 0.2434 - accuracy: 0.9203\n",
            "Epoch 67/80\n",
            "524/524 [==============================] - 5s 9ms/step - loss: 0.3345 - accuracy: 0.8984\n",
            "Epoch 68/80\n",
            "524/524 [==============================] - 5s 10ms/step - loss: 0.2315 - accuracy: 0.9202\n",
            "Epoch 69/80\n",
            "524/524 [==============================] - 5s 9ms/step - loss: 0.2835 - accuracy: 0.9065\n",
            "Epoch 70/80\n",
            "524/524 [==============================] - 5s 9ms/step - loss: 0.2581 - accuracy: 0.9169\n",
            "Epoch 71/80\n",
            "524/524 [==============================] - 5s 10ms/step - loss: 0.2418 - accuracy: 0.9203\n",
            "Epoch 72/80\n",
            "524/524 [==============================] - 5s 9ms/step - loss: 0.2313 - accuracy: 0.9225\n",
            "Epoch 73/80\n",
            "524/524 [==============================] - 5s 9ms/step - loss: 0.2354 - accuracy: 0.9246\n",
            "Epoch 74/80\n",
            "524/524 [==============================] - 5s 10ms/step - loss: 0.2880 - accuracy: 0.9067\n",
            "Epoch 75/80\n",
            "524/524 [==============================] - 5s 9ms/step - loss: 0.2160 - accuracy: 0.9275\n",
            "Epoch 76/80\n",
            "524/524 [==============================] - 5s 10ms/step - loss: 0.2454 - accuracy: 0.9225\n",
            "Epoch 77/80\n",
            "524/524 [==============================] - 5s 10ms/step - loss: 0.2729 - accuracy: 0.9150\n",
            "Epoch 78/80\n",
            "524/524 [==============================] - 5s 9ms/step - loss: 0.2310 - accuracy: 0.9255\n",
            "Epoch 79/80\n",
            "524/524 [==============================] - 5s 10ms/step - loss: 0.2380 - accuracy: 0.9206\n",
            "Epoch 80/80\n",
            "524/524 [==============================] - 5s 9ms/step - loss: 0.2034 - accuracy: 0.9324\n",
            "66/66 [==============================] - 2s 12ms/step - loss: 1.7409 - accuracy: 0.6877\n",
            "Test loss:  1.740865707397461\n",
            "Test accuracy:  0.68767911195755\n"
          ]
        }
      ]
    },
    {
      "cell_type": "code",
      "source": [
        "accuracy = train.history['accuracy']\n",
        "loss = train.history['loss']\n",
        "epochs = range(len(accuracy))\n",
        "plt.plot(epochs, accuracy, 'bo', label = 'Training accuracy')\n",
        "plt.plot(epochs, loss, 'b', label = 'Traning loss')\n",
        "plt.show()"
      ],
      "metadata": {
        "colab": {
          "base_uri": "https://localhost:8080/",
          "height": 430
        },
        "id": "pLl2m4HHbzXS",
        "outputId": "1d231377-3d9d-41d2-b5fb-e86c063ff45c"
      },
      "execution_count": 9,
      "outputs": [
        {
          "output_type": "display_data",
          "data": {
            "text/plain": [
              "<Figure size 640x480 with 1 Axes>"
            ],
            "image/png": "[encoded data removed]"
          },
          "metadata": {}
        }
      ]
    },
    {
      "cell_type": "code",
      "source": [
        "#Save model\n",
        "model.save('/content/drive/MyDrive/OCEAN/MODEL_OCEAN2.h5')"
      ],
      "metadata": {
        "id": "xzplIxe5d6tK"
      },
      "execution_count": 10,
      "outputs": []
    },
    {
      "cell_type": "code",
      "source": [],
      "metadata": {
        "id": "EdF243G_eDYJ"
      },
      "execution_count": null,
      "outputs": []
    }
  ]
}