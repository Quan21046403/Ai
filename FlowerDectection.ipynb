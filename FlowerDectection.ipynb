{
  "nbformat": 4,
  "nbformat_minor": 0,
  "metadata": {
    "colab": {
      "provenance": [],
      "gpuType": "T4",
      "authorship_tag": "ABX9TyMudAS3xXzAZhoZAcs9hnC0",
      "include_colab_link": true
    },
    "kernelspec": {
      "name": "python3",
      "display_name": "Python 3"
    },
    "language_info": {
      "name": "python"
    },
    "accelerator": "GPU",
    "gpuClass": "standard"
  },
  "cells": [
    {
      "cell_type": "markdown",
      "metadata": {
        "id": "view-in-github",
        "colab_type": "text"
      },
      "source": [
        "<a href=\"https://colab.research.google.com/github/Quan21046403/Ai/blob/main/FlowerDectection.ipynb\" target=\"_parent\"><img src=\"https://colab.research.google.com/assets/colab-badge.svg\" alt=\"Open In Colab\"/></a>"
      ]
    },
    {
      "cell_type": "code",
      "execution_count": null,
      "metadata": {
        "id": "AMFQAUPB5ms1"
      },
      "outputs": [],
      "source": [
        "from os import listdir\n",
        "from numpy import asarray, save\n",
        "from keras.utils import load_img\n",
        "from keras.utils import img_to_array\n",
        "import numpy as np\n",
        "from sklearn.model_selection import train_test_split\n",
        "from keras.datasets import cifar100\n",
        "import matplotlib.pyplot as plt\n",
        "from keras.layers import Dense, Dropout, Flatten, Conv2D, MaxPooling2D, Normalization\n",
        "from keras.models import Sequential, Model\n",
        "from keras import Input\n",
        "from keras.layers import LeakyReLU\n",
        "from keras.optimizers import Adam"
      ]
    },
    {
      "cell_type": "code",
      "source": [
        "from google.colab import drive\n",
        "drive.mount('/content/drive')"
      ],
      "metadata": {
        "colab": {
          "base_uri": "https://localhost:8080/"
        },
        "id": "ULLNMxz56AdR",
        "outputId": "b96a55ed-5bb4-413f-de0a-5b1ea0e7be41"
      },
      "execution_count": null,
      "outputs": [
        {
          "output_type": "stream",
          "name": "stdout",
          "text": [
            "Mounted at /content/drive\n"
          ]
        }
      ]
    },
    {
      "cell_type": "code",
      "source": [
        "from numpy import asarray\n",
        "\n",
        "folder = '/content/drive/MyDrive/Flower/Data/'\n",
        "photos, labels = list(), list()\n",
        "for file in listdir(folder):\n",
        "  output = 0.0\n",
        "  if file.startswith('Blossom'):\n",
        "    output = 0\n",
        "  if file.startswith('Camellia'):\n",
        "    output = 1\n",
        "  if file.startswith('Daisy'):\n",
        "    output = 2\n",
        "  if file.startswith('Iris'):\n",
        "    output = 3\n",
        "  if file.startswith('Lotus'):\n",
        "    output = 4\n",
        "  if file.startswith('Lyly'):\n",
        "    output = 5\n",
        "  if file.startswith('Poppy'):\n",
        "    output = 6\n",
        "  if file.startswith('Sunflower'):\n",
        "    output = 7\n",
        "  if file.startswith('Rose'):\n",
        "    output = 8\n",
        "  if file.startswith('Tulip'):\n",
        "    output = 9\n",
        "  photo = load_img(folder + file, target_size=(128, 128))\n",
        "  photo = img_to_array(photo)\n",
        "  photos.append(photo)\n",
        "  labels.append(output)\n",
        "\n",
        "photos = asarray(photos)\n",
        "labels = asarray(labels)\n",
        "print(photos.shape, labels.shape)\n",
        "save('/content/drive/MyDrive/Flower/Data/HOA_PHOTOS', photos)\n",
        "save('/content/drive/MyDrive/Flower/Data/HOA_LABELS', labels)"
      ],
      "metadata": {
        "colab": {
          "base_uri": "https://localhost:8080/"
        },
        "id": "hH7Bnima6Hxs",
        "outputId": "ebecb592-d3f1-4b6d-b1f6-82e32ffc33f4"
      },
      "execution_count": null,
      "outputs": [
        {
          "output_type": "stream",
          "name": "stdout",
          "text": [
            "(1548, 128, 128, 3) (1548,)\n"
          ]
        }
      ]
    },
    {
      "cell_type": "code",
      "source": [
        "# Load images and labels\n",
        "from keras.utils import to_categorical #one hot encoding\n",
        "photos = np.load('/content/drive/MyDrive/Flower/Data/HOA_PHOTOS.npy')\n",
        "labels = np.load('/content/drive/MyDrive/Flower/Data/HOA_LABELS.npy')\n",
        "labels_one_hot = to_categorical(labels)\n",
        "x_train, x_test, y_train, y_test = train_test_split(photos, labels_one_hot, test_size = 0.2, random_state = 128)"
      ],
      "metadata": {
        "id": "DZjPDRKK6uRR"
      },
      "execution_count": null,
      "outputs": []
    },
    {
      "cell_type": "code",
      "source": [
        "model = Sequential()\n",
        "#Convolutional\n",
        "model.add(Conv2D(8, kernel_size= (3,3), activation= 'relu', input_shape = (128,128,3), padding= 'same'))\n",
        "model.add(MaxPooling2D((2,2), padding= 'same'))\n",
        "\n",
        "model.add(Conv2D(16, kernel_size= (3,3), activation= 'relu', padding= 'same'))\n",
        "model.add(MaxPooling2D((2,2), padding= 'same'))\n",
        "\n",
        "model.add(Conv2D(32, kernel_size= (3,3), activation= 'relu', padding= 'same'))\n",
        "model.add(Conv2D(32, kernel_size= (3,3), activation= 'relu', padding= 'same'))\n",
        "model.add(MaxPooling2D((2,2), padding= 'same'))\n",
        "\n",
        "model.add(Conv2D(64, kernel_size= (3,3), activation= 'relu', padding= 'same'))\n",
        "model.add(Conv2D(64, kernel_size= (3,3), activation= 'relu', padding= 'same'))\n",
        "model.add(MaxPooling2D((2,2), padding= 'same'))\n",
        "\n",
        "# Fully connected layers\n",
        "model.add(Flatten())\n",
        "model.add(Dense(512, activation= 'relu'))\n",
        "model.add(Dropout(0.5))\n",
        "model.add(Dense(512, activation= 'relu'))\n",
        "model.add(Dropout(0.5))\n",
        "model.add(Dense(10, activation= 'softmax'))\n",
        "model.compile(loss='categorical_crossentropy', optimizer = Adam(), metrics=['accuracy'])\n",
        "model.summary()"
      ],
      "metadata": {
        "colab": {
          "base_uri": "https://localhost:8080/"
        },
        "id": "AlmilLiZ7BiT",
        "outputId": "177541bc-13b5-42bc-f9c4-1cb5ae3bc612"
      },
      "execution_count": null,
      "outputs": [
        {
          "output_type": "stream",
          "name": "stdout",
          "text": [
            "Model: \"sequential\"\n",
            "_________________________________________________________________\n",
            " Layer (type)                Output Shape              Param #   \n",
            "=================================================================\n",
            " conv2d (Conv2D)             (None, 128, 128, 8)       224       \n",
            "                                                                 \n",
            " max_pooling2d (MaxPooling2D  (None, 64, 64, 8)        0         \n",
            " )                                                               \n",
            "                                                                 \n",
            " conv2d_1 (Conv2D)           (None, 64, 64, 16)        1168      \n",
            "                                                                 \n",
            " max_pooling2d_1 (MaxPooling  (None, 32, 32, 16)       0         \n",
            " 2D)                                                             \n",
            "                                                                 \n",
            " conv2d_2 (Conv2D)           (None, 32, 32, 32)        4640      \n",
            "                                                                 \n",
            " conv2d_3 (Conv2D)           (None, 32, 32, 32)        9248      \n",
            "                                                                 \n",
            " max_pooling2d_2 (MaxPooling  (None, 16, 16, 32)       0         \n",
            " 2D)                                                             \n",
            "                                                                 \n",
            " conv2d_4 (Conv2D)           (None, 16, 16, 64)        18496     \n",
            "                                                                 \n",
            " conv2d_5 (Conv2D)           (None, 16, 16, 64)        36928     \n",
            "                                                                 \n",
            " max_pooling2d_3 (MaxPooling  (None, 8, 8, 64)         0         \n",
            " 2D)                                                             \n",
            "                                                                 \n",
            " flatten (Flatten)           (None, 4096)              0         \n",
            "                                                                 \n",
            " dense (Dense)               (None, 512)               2097664   \n",
            "                                                                 \n",
            " dropout (Dropout)           (None, 512)               0         \n",
            "                                                                 \n",
            " dense_1 (Dense)             (None, 512)               262656    \n",
            "                                                                 \n",
            " dropout_1 (Dropout)         (None, 512)               0         \n",
            "                                                                 \n",
            " dense_2 (Dense)             (None, 10)                5130      \n",
            "                                                                 \n",
            "=================================================================\n",
            "Total params: 2,436,154\n",
            "Trainable params: 2,436,154\n",
            "Non-trainable params: 0\n",
            "_________________________________________________________________\n"
          ]
        }
      ]
    },
    {
      "cell_type": "code",
      "source": [
        "from keras.preprocessing.image import ImageDataGenerator\n",
        "aug = ImageDataGenerator(rotation_range=20, zoom_range=0.2,\n",
        "    rescale=1./255,\n",
        "\twidth_shift_range=0.2,\n",
        "    height_shift_range=0.2,\n",
        "\thorizontal_flip=True,\n",
        "    brightness_range=[0.2,1.5], fill_mode=\"nearest\")"
      ],
      "metadata": {
        "id": "59ZrDrxg7Dg8"
      },
      "execution_count": null,
      "outputs": []
    },
    {
      "cell_type": "code",
      "source": [
        "x_train.shape"
      ],
      "metadata": {
        "colab": {
          "base_uri": "https://localhost:8080/"
        },
        "id": "OPGV1vVx7IMz",
        "outputId": "6f7fe7bd-e0e7-485f-a279-de36aa1b087b"
      },
      "execution_count": null,
      "outputs": [
        {
          "output_type": "execute_result",
          "data": {
            "text/plain": [
              "(1238, 128, 128, 3)"
            ]
          },
          "metadata": {},
          "execution_count": 7
        }
      ]
    },
    {
      "cell_type": "code",
      "source": [
        "y_train.shape"
      ],
      "metadata": {
        "colab": {
          "base_uri": "https://localhost:8080/"
        },
        "id": "luvjWwT17J2t",
        "outputId": "1894c930-4100-418c-978e-aada74b16709"
      },
      "execution_count": null,
      "outputs": [
        {
          "output_type": "execute_result",
          "data": {
            "text/plain": [
              "(1238, 10)"
            ]
          },
          "metadata": {},
          "execution_count": 8
        }
      ]
    },
    {
      "cell_type": "code",
      "source": [
        "train = model.fit_generator(aug.flow(x_train, y_train, batch_size=64),\n",
        "                               epochs=200,\n",
        "                               validation_data=aug.flow(x_test,y_test,\n",
        "                               batch_size=len(x_test)))"
      ],
      "metadata": {
        "colab": {
          "base_uri": "https://localhost:8080/"
        },
        "id": "gkmNyP2z7LcO",
        "outputId": "a0016a64-4979-4d11-c5f8-d91e2c768f09"
      },
      "execution_count": null,
      "outputs": [
        {
          "output_type": "stream",
          "name": "stderr",
          "text": [
            "<ipython-input-9-0351de05a4f3>:1: UserWarning: `Model.fit_generator` is deprecated and will be removed in a future version. Please use `Model.fit`, which supports generators.\n",
            "  train = model.fit_generator(aug.flow(x_train, y_train, batch_size=64),\n"
          ]
        },
        {
          "output_type": "stream",
          "name": "stdout",
          "text": [
            "Epoch 1/200\n",
            "20/20 [==============================] - 18s 440ms/step - loss: 1.6438 - accuracy: 0.5444 - val_loss: 1.3917 - val_accuracy: 0.5548\n",
            "Epoch 2/200\n",
            "20/20 [==============================] - 8s 398ms/step - loss: 1.4117 - accuracy: 0.5679 - val_loss: 1.3543 - val_accuracy: 0.5548\n",
            "Epoch 3/200\n",
            "20/20 [==============================] - 8s 402ms/step - loss: 1.4097 - accuracy: 0.5679 - val_loss: 1.3485 - val_accuracy: 0.5548\n",
            "Epoch 4/200\n",
            "20/20 [==============================] - 7s 344ms/step - loss: 1.3281 - accuracy: 0.5679 - val_loss: 1.2901 - val_accuracy: 0.5452\n",
            "Epoch 5/200\n",
            "20/20 [==============================] - 8s 407ms/step - loss: 1.2913 - accuracy: 0.5679 - val_loss: 1.2138 - val_accuracy: 0.5581\n",
            "Epoch 6/200\n",
            "20/20 [==============================] - 7s 328ms/step - loss: 1.2773 - accuracy: 0.5646 - val_loss: 1.2470 - val_accuracy: 0.5548\n",
            "Epoch 7/200\n",
            "20/20 [==============================] - 9s 449ms/step - loss: 1.2424 - accuracy: 0.5816 - val_loss: 1.2752 - val_accuracy: 0.5548\n",
            "Epoch 8/200\n",
            "20/20 [==============================] - 8s 388ms/step - loss: 1.2325 - accuracy: 0.5759 - val_loss: 1.1935 - val_accuracy: 0.5419\n",
            "Epoch 9/200\n",
            "20/20 [==============================] - 7s 327ms/step - loss: 1.2020 - accuracy: 0.5792 - val_loss: 1.1922 - val_accuracy: 0.5548\n",
            "Epoch 10/200\n",
            "20/20 [==============================] - 10s 494ms/step - loss: 1.1840 - accuracy: 0.5775 - val_loss: 1.2125 - val_accuracy: 0.5742\n",
            "Epoch 11/200\n",
            "20/20 [==============================] - 6s 332ms/step - loss: 1.1860 - accuracy: 0.5913 - val_loss: 1.1432 - val_accuracy: 0.5710\n",
            "Epoch 12/200\n",
            "20/20 [==============================] - 8s 404ms/step - loss: 1.1321 - accuracy: 0.6074 - val_loss: 1.1596 - val_accuracy: 0.5419\n",
            "Epoch 13/200\n",
            "20/20 [==============================] - 8s 392ms/step - loss: 1.1155 - accuracy: 0.6107 - val_loss: 1.0342 - val_accuracy: 0.6355\n",
            "Epoch 14/200\n",
            "20/20 [==============================] - 6s 324ms/step - loss: 1.1151 - accuracy: 0.6147 - val_loss: 1.0607 - val_accuracy: 0.5968\n",
            "Epoch 15/200\n",
            "20/20 [==============================] - 8s 404ms/step - loss: 1.0680 - accuracy: 0.6292 - val_loss: 1.0491 - val_accuracy: 0.6032\n",
            "Epoch 16/200\n",
            "20/20 [==============================] - 6s 324ms/step - loss: 1.0281 - accuracy: 0.6365 - val_loss: 0.9937 - val_accuracy: 0.6355\n",
            "Epoch 17/200\n",
            "20/20 [==============================] - 8s 401ms/step - loss: 1.0300 - accuracy: 0.6373 - val_loss: 0.9883 - val_accuracy: 0.6613\n",
            "Epoch 18/200\n",
            "20/20 [==============================] - 6s 321ms/step - loss: 1.0152 - accuracy: 0.6511 - val_loss: 0.9783 - val_accuracy: 0.6452\n",
            "Epoch 19/200\n",
            "20/20 [==============================] - 6s 320ms/step - loss: 0.9803 - accuracy: 0.6583 - val_loss: 0.9574 - val_accuracy: 0.6290\n",
            "Epoch 20/200\n",
            "20/20 [==============================] - 8s 398ms/step - loss: 0.9682 - accuracy: 0.6454 - val_loss: 0.9271 - val_accuracy: 0.6645\n",
            "Epoch 21/200\n",
            "20/20 [==============================] - 6s 321ms/step - loss: 0.9367 - accuracy: 0.6486 - val_loss: 0.9182 - val_accuracy: 0.6581\n",
            "Epoch 22/200\n",
            "20/20 [==============================] - 7s 320ms/step - loss: 0.9554 - accuracy: 0.6712 - val_loss: 0.9781 - val_accuracy: 0.6742\n",
            "Epoch 23/200\n",
            "20/20 [==============================] - 9s 472ms/step - loss: 0.9464 - accuracy: 0.6769 - val_loss: 1.0180 - val_accuracy: 0.6645\n",
            "Epoch 24/200\n",
            "20/20 [==============================] - 8s 400ms/step - loss: 0.9135 - accuracy: 0.6656 - val_loss: 0.8736 - val_accuracy: 0.6774\n",
            "Epoch 25/200\n",
            "20/20 [==============================] - 7s 321ms/step - loss: 0.8758 - accuracy: 0.6874 - val_loss: 0.8589 - val_accuracy: 0.6935\n",
            "Epoch 26/200\n",
            "20/20 [==============================] - 8s 394ms/step - loss: 0.8789 - accuracy: 0.6817 - val_loss: 0.8590 - val_accuracy: 0.7065\n",
            "Epoch 27/200\n",
            "20/20 [==============================] - 6s 324ms/step - loss: 0.8583 - accuracy: 0.6971 - val_loss: 0.8485 - val_accuracy: 0.6935\n",
            "Epoch 28/200\n",
            "20/20 [==============================] - 8s 397ms/step - loss: 0.8614 - accuracy: 0.7036 - val_loss: 0.9336 - val_accuracy: 0.6516\n",
            "Epoch 29/200\n",
            "20/20 [==============================] - 8s 386ms/step - loss: 0.8595 - accuracy: 0.7019 - val_loss: 0.9213 - val_accuracy: 0.6645\n",
            "Epoch 30/200\n",
            "20/20 [==============================] - 7s 345ms/step - loss: 0.8266 - accuracy: 0.6995 - val_loss: 0.8466 - val_accuracy: 0.7000\n",
            "Epoch 31/200\n",
            "20/20 [==============================] - 7s 376ms/step - loss: 0.8319 - accuracy: 0.6939 - val_loss: 0.8698 - val_accuracy: 0.6903\n",
            "Epoch 32/200\n",
            "20/20 [==============================] - 7s 330ms/step - loss: 0.8319 - accuracy: 0.7165 - val_loss: 0.8078 - val_accuracy: 0.7161\n",
            "Epoch 33/200\n",
            "20/20 [==============================] - 8s 418ms/step - loss: 0.7711 - accuracy: 0.7237 - val_loss: 0.9096 - val_accuracy: 0.6742\n",
            "Epoch 34/200\n",
            "20/20 [==============================] - 6s 323ms/step - loss: 0.7805 - accuracy: 0.7149 - val_loss: 0.8579 - val_accuracy: 0.6839\n",
            "Epoch 35/200\n",
            "20/20 [==============================] - 8s 399ms/step - loss: 0.7534 - accuracy: 0.7262 - val_loss: 0.8192 - val_accuracy: 0.6935\n",
            "Epoch 36/200\n",
            "20/20 [==============================] - 6s 323ms/step - loss: 0.7320 - accuracy: 0.7318 - val_loss: 0.8331 - val_accuracy: 0.7161\n",
            "Epoch 37/200\n",
            "20/20 [==============================] - 7s 343ms/step - loss: 0.7411 - accuracy: 0.7302 - val_loss: 0.8261 - val_accuracy: 0.7161\n",
            "Epoch 38/200\n",
            "20/20 [==============================] - 8s 383ms/step - loss: 0.7295 - accuracy: 0.7310 - val_loss: 0.8189 - val_accuracy: 0.7194\n",
            "Epoch 39/200\n",
            "20/20 [==============================] - 7s 327ms/step - loss: 0.7220 - accuracy: 0.7431 - val_loss: 0.8555 - val_accuracy: 0.7065\n",
            "Epoch 40/200\n",
            "20/20 [==============================] - 8s 396ms/step - loss: 0.7574 - accuracy: 0.7367 - val_loss: 0.8434 - val_accuracy: 0.7226\n",
            "Epoch 41/200\n",
            "20/20 [==============================] - 6s 332ms/step - loss: 0.7269 - accuracy: 0.7237 - val_loss: 0.8530 - val_accuracy: 0.6935\n",
            "Epoch 42/200\n",
            "20/20 [==============================] - 8s 401ms/step - loss: 0.7737 - accuracy: 0.7237 - val_loss: 0.7862 - val_accuracy: 0.7355\n",
            "Epoch 43/200\n",
            "20/20 [==============================] - 6s 320ms/step - loss: 0.6952 - accuracy: 0.7415 - val_loss: 0.7991 - val_accuracy: 0.7290\n",
            "Epoch 44/200\n",
            "20/20 [==============================] - 8s 396ms/step - loss: 0.6889 - accuracy: 0.7431 - val_loss: 0.7381 - val_accuracy: 0.7290\n",
            "Epoch 45/200\n",
            "20/20 [==============================] - 6s 332ms/step - loss: 0.6463 - accuracy: 0.7544 - val_loss: 0.7953 - val_accuracy: 0.6968\n",
            "Epoch 46/200\n",
            "20/20 [==============================] - 8s 404ms/step - loss: 0.6506 - accuracy: 0.7561 - val_loss: 0.8106 - val_accuracy: 0.7194\n",
            "Epoch 47/200\n",
            "20/20 [==============================] - 7s 369ms/step - loss: 0.6677 - accuracy: 0.7625 - val_loss: 0.7567 - val_accuracy: 0.7258\n",
            "Epoch 48/200\n",
            "20/20 [==============================] - 10s 495ms/step - loss: 0.6475 - accuracy: 0.7609 - val_loss: 0.8028 - val_accuracy: 0.7355\n",
            "Epoch 49/200\n",
            "20/20 [==============================] - 8s 407ms/step - loss: 0.6072 - accuracy: 0.7666 - val_loss: 0.7524 - val_accuracy: 0.7419\n",
            "Epoch 50/200\n",
            "20/20 [==============================] - 6s 321ms/step - loss: 0.6150 - accuracy: 0.7746 - val_loss: 0.6857 - val_accuracy: 0.7645\n",
            "Epoch 51/200\n",
            "20/20 [==============================] - 8s 397ms/step - loss: 0.6090 - accuracy: 0.7835 - val_loss: 0.7801 - val_accuracy: 0.7323\n",
            "Epoch 52/200\n",
            "20/20 [==============================] - 6s 319ms/step - loss: 0.5827 - accuracy: 0.7851 - val_loss: 0.7472 - val_accuracy: 0.7548\n",
            "Epoch 53/200\n",
            "20/20 [==============================] - 8s 406ms/step - loss: 0.6149 - accuracy: 0.7892 - val_loss: 0.7975 - val_accuracy: 0.7290\n",
            "Epoch 54/200\n",
            "20/20 [==============================] - 6s 317ms/step - loss: 0.6185 - accuracy: 0.7730 - val_loss: 0.7872 - val_accuracy: 0.7516\n",
            "Epoch 55/200\n",
            "20/20 [==============================] - 9s 459ms/step - loss: 0.6109 - accuracy: 0.7835 - val_loss: 0.6881 - val_accuracy: 0.7516\n",
            "Epoch 56/200\n",
            "20/20 [==============================] - 8s 384ms/step - loss: 0.6242 - accuracy: 0.7641 - val_loss: 0.8896 - val_accuracy: 0.7290\n",
            "Epoch 57/200\n",
            "20/20 [==============================] - 6s 332ms/step - loss: 0.6095 - accuracy: 0.7787 - val_loss: 0.7576 - val_accuracy: 0.7677\n",
            "Epoch 58/200\n",
            "20/20 [==============================] - 8s 396ms/step - loss: 0.5141 - accuracy: 0.8207 - val_loss: 0.8093 - val_accuracy: 0.7548\n",
            "Epoch 59/200\n",
            "20/20 [==============================] - 6s 319ms/step - loss: 0.5083 - accuracy: 0.8126 - val_loss: 0.8402 - val_accuracy: 0.7613\n",
            "Epoch 60/200\n",
            "20/20 [==============================] - 8s 394ms/step - loss: 0.5811 - accuracy: 0.7811 - val_loss: 0.7133 - val_accuracy: 0.7742\n",
            "Epoch 61/200\n",
            "20/20 [==============================] - 6s 323ms/step - loss: 0.5544 - accuracy: 0.8053 - val_loss: 0.7164 - val_accuracy: 0.7677\n",
            "Epoch 62/200\n",
            "20/20 [==============================] - 8s 397ms/step - loss: 0.5226 - accuracy: 0.8045 - val_loss: 0.6398 - val_accuracy: 0.7710\n",
            "Epoch 63/200\n",
            "20/20 [==============================] - 8s 400ms/step - loss: 0.4761 - accuracy: 0.8296 - val_loss: 0.8780 - val_accuracy: 0.7355\n",
            "Epoch 64/200\n",
            "20/20 [==============================] - 6s 329ms/step - loss: 0.5429 - accuracy: 0.8029 - val_loss: 0.7445 - val_accuracy: 0.7645\n",
            "Epoch 65/200\n",
            "20/20 [==============================] - 8s 401ms/step - loss: 0.5537 - accuracy: 0.7989 - val_loss: 0.7105 - val_accuracy: 0.7516\n",
            "Epoch 66/200\n",
            "20/20 [==============================] - 6s 323ms/step - loss: 0.5711 - accuracy: 0.7932 - val_loss: 0.7293 - val_accuracy: 0.7516\n",
            "Epoch 67/200\n",
            "20/20 [==============================] - 8s 399ms/step - loss: 0.5321 - accuracy: 0.8118 - val_loss: 0.6187 - val_accuracy: 0.7871\n",
            "Epoch 68/200\n",
            "20/20 [==============================] - 8s 395ms/step - loss: 0.5036 - accuracy: 0.8158 - val_loss: 0.6045 - val_accuracy: 0.7871\n",
            "Epoch 69/200\n",
            "20/20 [==============================] - 6s 322ms/step - loss: 0.5838 - accuracy: 0.7892 - val_loss: 0.6516 - val_accuracy: 0.7677\n",
            "Epoch 70/200\n",
            "20/20 [==============================] - 8s 399ms/step - loss: 0.5123 - accuracy: 0.7989 - val_loss: 0.7691 - val_accuracy: 0.7677\n",
            "Epoch 71/200\n",
            "20/20 [==============================] - 7s 355ms/step - loss: 0.4868 - accuracy: 0.8166 - val_loss: 0.8193 - val_accuracy: 0.7677\n",
            "Epoch 72/200\n",
            "20/20 [==============================] - 7s 352ms/step - loss: 0.5220 - accuracy: 0.8183 - val_loss: 0.7252 - val_accuracy: 0.7452\n",
            "Epoch 73/200\n",
            "20/20 [==============================] - 7s 377ms/step - loss: 0.4706 - accuracy: 0.8344 - val_loss: 0.6674 - val_accuracy: 0.7968\n",
            "Epoch 74/200\n",
            "20/20 [==============================] - 7s 328ms/step - loss: 0.4510 - accuracy: 0.8296 - val_loss: 0.6380 - val_accuracy: 0.7935\n",
            "Epoch 75/200\n",
            "20/20 [==============================] - 8s 386ms/step - loss: 0.4469 - accuracy: 0.8449 - val_loss: 0.6904 - val_accuracy: 0.7871\n",
            "Epoch 76/200\n",
            "20/20 [==============================] - 6s 325ms/step - loss: 0.3949 - accuracy: 0.8538 - val_loss: 0.7076 - val_accuracy: 0.7903\n",
            "Epoch 77/200\n",
            "20/20 [==============================] - 8s 406ms/step - loss: 0.4162 - accuracy: 0.8506 - val_loss: 0.7696 - val_accuracy: 0.7903\n",
            "Epoch 78/200\n",
            "20/20 [==============================] - 6s 324ms/step - loss: 0.4366 - accuracy: 0.8360 - val_loss: 0.5854 - val_accuracy: 0.8032\n",
            "Epoch 79/200\n",
            "20/20 [==============================] - 8s 405ms/step - loss: 0.5484 - accuracy: 0.8174 - val_loss: 0.6818 - val_accuracy: 0.7581\n",
            "Epoch 80/200\n",
            "20/20 [==============================] - 8s 388ms/step - loss: 0.4714 - accuracy: 0.8304 - val_loss: 0.7283 - val_accuracy: 0.7452\n",
            "Epoch 81/200\n",
            "20/20 [==============================] - 7s 346ms/step - loss: 0.4193 - accuracy: 0.8506 - val_loss: 0.7477 - val_accuracy: 0.7516\n",
            "Epoch 82/200\n",
            "20/20 [==============================] - 8s 386ms/step - loss: 0.4086 - accuracy: 0.8425 - val_loss: 0.7610 - val_accuracy: 0.7742\n",
            "Epoch 83/200\n",
            "20/20 [==============================] - 7s 322ms/step - loss: 0.4029 - accuracy: 0.8530 - val_loss: 0.6736 - val_accuracy: 0.7774\n",
            "Epoch 84/200\n",
            "20/20 [==============================] - 8s 396ms/step - loss: 0.4248 - accuracy: 0.8457 - val_loss: 0.7657 - val_accuracy: 0.7581\n",
            "Epoch 85/200\n",
            "20/20 [==============================] - 8s 413ms/step - loss: 0.3781 - accuracy: 0.8724 - val_loss: 0.7823 - val_accuracy: 0.7806\n",
            "Epoch 86/200\n",
            "20/20 [==============================] - 7s 370ms/step - loss: 0.3799 - accuracy: 0.8522 - val_loss: 0.6755 - val_accuracy: 0.7871\n",
            "Epoch 87/200\n",
            "20/20 [==============================] - 8s 389ms/step - loss: 0.3751 - accuracy: 0.8578 - val_loss: 0.7185 - val_accuracy: 0.7581\n",
            "Epoch 88/200\n",
            "20/20 [==============================] - 7s 331ms/step - loss: 0.3907 - accuracy: 0.8473 - val_loss: 0.5759 - val_accuracy: 0.8097\n",
            "Epoch 89/200\n",
            "20/20 [==============================] - 8s 401ms/step - loss: 0.3201 - accuracy: 0.8772 - val_loss: 0.6755 - val_accuracy: 0.8097\n",
            "Epoch 90/200\n",
            "20/20 [==============================] - 8s 390ms/step - loss: 0.3762 - accuracy: 0.8586 - val_loss: 0.6450 - val_accuracy: 0.8065\n",
            "Epoch 91/200\n",
            "20/20 [==============================] - 6s 327ms/step - loss: 0.3390 - accuracy: 0.8788 - val_loss: 0.7827 - val_accuracy: 0.7839\n",
            "Epoch 92/200\n",
            "20/20 [==============================] - 8s 405ms/step - loss: 0.3539 - accuracy: 0.8732 - val_loss: 0.7460 - val_accuracy: 0.7581\n",
            "Epoch 93/200\n",
            "20/20 [==============================] - 6s 323ms/step - loss: 0.3537 - accuracy: 0.8724 - val_loss: 0.7958 - val_accuracy: 0.7774\n",
            "Epoch 94/200\n",
            "20/20 [==============================] - 8s 401ms/step - loss: 0.3563 - accuracy: 0.8813 - val_loss: 0.6883 - val_accuracy: 0.8000\n",
            "Epoch 95/200\n",
            "20/20 [==============================] - 7s 373ms/step - loss: 0.3502 - accuracy: 0.8796 - val_loss: 0.6593 - val_accuracy: 0.7774\n",
            "Epoch 96/200\n",
            "20/20 [==============================] - 7s 338ms/step - loss: 0.3449 - accuracy: 0.8780 - val_loss: 0.7927 - val_accuracy: 0.7677\n",
            "Epoch 97/200\n",
            "20/20 [==============================] - 8s 402ms/step - loss: 0.3725 - accuracy: 0.8700 - val_loss: 0.6972 - val_accuracy: 0.8000\n",
            "Epoch 98/200\n",
            "20/20 [==============================] - 6s 325ms/step - loss: 0.3805 - accuracy: 0.8643 - val_loss: 0.7123 - val_accuracy: 0.8032\n",
            "Epoch 99/200\n",
            "20/20 [==============================] - 8s 381ms/step - loss: 0.3736 - accuracy: 0.8595 - val_loss: 0.7518 - val_accuracy: 0.7968\n",
            "Epoch 100/200\n",
            "20/20 [==============================] - 7s 353ms/step - loss: 0.3715 - accuracy: 0.8683 - val_loss: 0.7256 - val_accuracy: 0.7839\n",
            "Epoch 101/200\n",
            "20/20 [==============================] - 7s 362ms/step - loss: 0.3518 - accuracy: 0.8619 - val_loss: 0.6161 - val_accuracy: 0.8161\n",
            "Epoch 102/200\n",
            "20/20 [==============================] - 8s 402ms/step - loss: 0.3581 - accuracy: 0.8691 - val_loss: 0.7585 - val_accuracy: 0.8097\n",
            "Epoch 103/200\n",
            "20/20 [==============================] - 6s 322ms/step - loss: 0.3274 - accuracy: 0.8829 - val_loss: 0.6707 - val_accuracy: 0.7871\n",
            "Epoch 104/200\n",
            "20/20 [==============================] - 8s 402ms/step - loss: 0.3617 - accuracy: 0.8740 - val_loss: 0.7775 - val_accuracy: 0.7710\n",
            "Epoch 105/200\n",
            "20/20 [==============================] - 6s 320ms/step - loss: 0.3757 - accuracy: 0.8708 - val_loss: 0.5768 - val_accuracy: 0.8065\n",
            "Epoch 106/200\n",
            "20/20 [==============================] - 8s 400ms/step - loss: 0.3532 - accuracy: 0.8659 - val_loss: 0.6177 - val_accuracy: 0.8161\n",
            "Epoch 107/200\n",
            "20/20 [==============================] - 6s 326ms/step - loss: 0.3045 - accuracy: 0.8910 - val_loss: 0.7251 - val_accuracy: 0.8000\n",
            "Epoch 108/200\n",
            "20/20 [==============================] - 8s 400ms/step - loss: 0.3031 - accuracy: 0.8950 - val_loss: 0.7164 - val_accuracy: 0.8226\n",
            "Epoch 109/200\n",
            "20/20 [==============================] - 6s 325ms/step - loss: 0.3234 - accuracy: 0.8901 - val_loss: 0.6757 - val_accuracy: 0.7871\n",
            "Epoch 110/200\n",
            "20/20 [==============================] - 8s 388ms/step - loss: 0.3115 - accuracy: 0.8861 - val_loss: 0.8217 - val_accuracy: 0.7903\n",
            "Epoch 111/200\n",
            "20/20 [==============================] - 7s 355ms/step - loss: 0.3266 - accuracy: 0.8780 - val_loss: 0.7927 - val_accuracy: 0.7677\n",
            "Epoch 112/200\n",
            "20/20 [==============================] - 7s 359ms/step - loss: 0.2925 - accuracy: 0.8998 - val_loss: 0.8570 - val_accuracy: 0.7968\n",
            "Epoch 113/200\n",
            "20/20 [==============================] - 7s 369ms/step - loss: 0.2798 - accuracy: 0.9071 - val_loss: 0.7384 - val_accuracy: 0.7871\n",
            "Epoch 114/200\n",
            "20/20 [==============================] - 7s 340ms/step - loss: 0.2879 - accuracy: 0.8990 - val_loss: 0.6556 - val_accuracy: 0.8065\n",
            "Epoch 115/200\n",
            "20/20 [==============================] - 8s 416ms/step - loss: 0.2633 - accuracy: 0.9063 - val_loss: 0.6703 - val_accuracy: 0.8290\n",
            "Epoch 116/200\n",
            "20/20 [==============================] - 7s 329ms/step - loss: 0.2287 - accuracy: 0.9128 - val_loss: 0.6040 - val_accuracy: 0.8258\n",
            "Epoch 117/200\n",
            "20/20 [==============================] - 8s 406ms/step - loss: 0.2290 - accuracy: 0.9144 - val_loss: 0.9646 - val_accuracy: 0.7903\n",
            "Epoch 118/200\n",
            "20/20 [==============================] - 6s 324ms/step - loss: 0.2503 - accuracy: 0.9006 - val_loss: 0.7333 - val_accuracy: 0.8065\n",
            "Epoch 119/200\n",
            "20/20 [==============================] - 8s 405ms/step - loss: 0.2297 - accuracy: 0.9160 - val_loss: 0.9695 - val_accuracy: 0.7871\n",
            "Epoch 120/200\n",
            "20/20 [==============================] - 6s 321ms/step - loss: 0.2917 - accuracy: 0.8982 - val_loss: 0.6245 - val_accuracy: 0.8065\n",
            "Epoch 121/200\n",
            "20/20 [==============================] - 8s 397ms/step - loss: 0.2989 - accuracy: 0.9015 - val_loss: 0.8809 - val_accuracy: 0.7742\n",
            "Epoch 122/200\n",
            "20/20 [==============================] - 6s 324ms/step - loss: 0.2951 - accuracy: 0.8990 - val_loss: 0.6930 - val_accuracy: 0.8129\n",
            "Epoch 123/200\n",
            "20/20 [==============================] - 9s 480ms/step - loss: 0.3354 - accuracy: 0.8772 - val_loss: 0.8615 - val_accuracy: 0.7645\n",
            "Epoch 124/200\n",
            "20/20 [==============================] - 8s 394ms/step - loss: 0.3347 - accuracy: 0.8772 - val_loss: 0.8227 - val_accuracy: 0.7742\n",
            "Epoch 125/200\n",
            "20/20 [==============================] - 7s 346ms/step - loss: 0.3010 - accuracy: 0.8974 - val_loss: 0.5967 - val_accuracy: 0.8161\n",
            "Epoch 126/200\n",
            "20/20 [==============================] - 8s 415ms/step - loss: 0.2365 - accuracy: 0.9031 - val_loss: 0.7152 - val_accuracy: 0.7935\n",
            "Epoch 127/200\n",
            "20/20 [==============================] - 6s 326ms/step - loss: 0.2691 - accuracy: 0.9023 - val_loss: 0.7987 - val_accuracy: 0.7871\n",
            "Epoch 128/200\n",
            "20/20 [==============================] - 8s 400ms/step - loss: 0.2445 - accuracy: 0.9055 - val_loss: 0.8285 - val_accuracy: 0.7935\n",
            "Epoch 129/200\n",
            "20/20 [==============================] - 7s 327ms/step - loss: 0.2420 - accuracy: 0.9152 - val_loss: 0.7703 - val_accuracy: 0.7871\n",
            "Epoch 130/200\n",
            "20/20 [==============================] - 8s 402ms/step - loss: 0.2253 - accuracy: 0.9095 - val_loss: 0.6924 - val_accuracy: 0.8194\n",
            "Epoch 131/200\n",
            "20/20 [==============================] - 6s 320ms/step - loss: 0.2389 - accuracy: 0.9071 - val_loss: 0.8710 - val_accuracy: 0.8032\n",
            "Epoch 132/200\n",
            "20/20 [==============================] - 8s 404ms/step - loss: 0.2292 - accuracy: 0.9225 - val_loss: 0.7770 - val_accuracy: 0.8032\n",
            "Epoch 133/200\n",
            "20/20 [==============================] - 6s 324ms/step - loss: 0.2372 - accuracy: 0.9095 - val_loss: 0.7751 - val_accuracy: 0.8065\n",
            "Epoch 134/200\n",
            "20/20 [==============================] - 6s 334ms/step - loss: 0.2201 - accuracy: 0.9241 - val_loss: 0.7681 - val_accuracy: 0.8355\n",
            "Epoch 135/200\n",
            "20/20 [==============================] - 8s 399ms/step - loss: 0.2356 - accuracy: 0.9184 - val_loss: 0.7061 - val_accuracy: 0.8194\n",
            "Epoch 136/200\n",
            "20/20 [==============================] - 6s 326ms/step - loss: 0.2757 - accuracy: 0.9055 - val_loss: 0.8127 - val_accuracy: 0.8097\n",
            "Epoch 137/200\n",
            "20/20 [==============================] - 8s 402ms/step - loss: 0.3102 - accuracy: 0.8950 - val_loss: 0.8884 - val_accuracy: 0.7774\n",
            "Epoch 138/200\n",
            "20/20 [==============================] - 6s 326ms/step - loss: 0.2659 - accuracy: 0.9176 - val_loss: 0.6003 - val_accuracy: 0.8258\n",
            "Epoch 139/200\n",
            "20/20 [==============================] - 8s 406ms/step - loss: 0.2294 - accuracy: 0.9208 - val_loss: 0.7373 - val_accuracy: 0.7935\n",
            "Epoch 140/200\n",
            "20/20 [==============================] - 7s 327ms/step - loss: 0.1925 - accuracy: 0.9233 - val_loss: 0.7926 - val_accuracy: 0.8032\n",
            "Epoch 141/200\n",
            "20/20 [==============================] - 8s 409ms/step - loss: 0.2172 - accuracy: 0.9192 - val_loss: 0.7424 - val_accuracy: 0.8097\n",
            "Epoch 142/200\n",
            "20/20 [==============================] - 6s 324ms/step - loss: 0.2806 - accuracy: 0.9071 - val_loss: 0.7172 - val_accuracy: 0.7968\n",
            "Epoch 143/200\n",
            "20/20 [==============================] - 8s 401ms/step - loss: 0.2496 - accuracy: 0.9071 - val_loss: 0.6842 - val_accuracy: 0.8161\n",
            "Epoch 144/200\n",
            "20/20 [==============================] - 7s 337ms/step - loss: 0.2072 - accuracy: 0.9249 - val_loss: 0.6005 - val_accuracy: 0.8161\n",
            "Epoch 145/200\n",
            "20/20 [==============================] - 8s 399ms/step - loss: 0.2305 - accuracy: 0.9249 - val_loss: 0.7601 - val_accuracy: 0.8097\n",
            "Epoch 146/200\n",
            "20/20 [==============================] - 8s 402ms/step - loss: 0.2286 - accuracy: 0.9200 - val_loss: 0.6886 - val_accuracy: 0.7935\n",
            "Epoch 147/200\n",
            "20/20 [==============================] - 8s 392ms/step - loss: 0.1841 - accuracy: 0.9330 - val_loss: 0.8444 - val_accuracy: 0.8387\n",
            "Epoch 148/200\n",
            "20/20 [==============================] - 8s 405ms/step - loss: 0.2134 - accuracy: 0.9257 - val_loss: 0.6477 - val_accuracy: 0.8323\n",
            "Epoch 149/200\n",
            "20/20 [==============================] - 6s 323ms/step - loss: 0.1840 - accuracy: 0.9394 - val_loss: 0.7713 - val_accuracy: 0.8452\n",
            "Epoch 150/200\n",
            "20/20 [==============================] - 8s 401ms/step - loss: 0.2021 - accuracy: 0.9273 - val_loss: 0.8203 - val_accuracy: 0.8194\n",
            "Epoch 151/200\n",
            "20/20 [==============================] - 8s 393ms/step - loss: 0.2058 - accuracy: 0.9233 - val_loss: 0.9105 - val_accuracy: 0.8387\n",
            "Epoch 152/200\n",
            "20/20 [==============================] - 7s 348ms/step - loss: 0.2123 - accuracy: 0.9192 - val_loss: 0.8290 - val_accuracy: 0.8129\n",
            "Epoch 153/200\n",
            "20/20 [==============================] - 8s 393ms/step - loss: 0.2164 - accuracy: 0.9265 - val_loss: 0.8730 - val_accuracy: 0.8032\n",
            "Epoch 154/200\n",
            "20/20 [==============================] - 6s 324ms/step - loss: 0.2517 - accuracy: 0.9039 - val_loss: 0.8203 - val_accuracy: 0.7968\n",
            "Epoch 155/200\n",
            "20/20 [==============================] - 8s 399ms/step - loss: 0.2770 - accuracy: 0.9111 - val_loss: 0.7720 - val_accuracy: 0.7935\n",
            "Epoch 156/200\n",
            "20/20 [==============================] - 7s 328ms/step - loss: 0.1856 - accuracy: 0.9265 - val_loss: 0.7814 - val_accuracy: 0.8000\n",
            "Epoch 157/200\n",
            "20/20 [==============================] - 8s 398ms/step - loss: 0.1730 - accuracy: 0.9394 - val_loss: 0.7758 - val_accuracy: 0.8161\n",
            "Epoch 158/200\n",
            "20/20 [==============================] - 6s 325ms/step - loss: 0.1974 - accuracy: 0.9265 - val_loss: 0.6123 - val_accuracy: 0.8323\n",
            "Epoch 159/200\n",
            "20/20 [==============================] - 6s 326ms/step - loss: 0.2004 - accuracy: 0.9354 - val_loss: 0.7572 - val_accuracy: 0.8355\n",
            "Epoch 160/200\n",
            "20/20 [==============================] - 8s 400ms/step - loss: 0.2379 - accuracy: 0.9208 - val_loss: 0.8905 - val_accuracy: 0.7935\n",
            "Epoch 161/200\n",
            "20/20 [==============================] - 6s 323ms/step - loss: 0.2735 - accuracy: 0.9128 - val_loss: 0.7819 - val_accuracy: 0.7742\n",
            "Epoch 162/200\n",
            "20/20 [==============================] - 9s 475ms/step - loss: 0.1905 - accuracy: 0.9346 - val_loss: 0.5490 - val_accuracy: 0.8452\n",
            "Epoch 163/200\n",
            "20/20 [==============================] - 6s 321ms/step - loss: 0.1829 - accuracy: 0.9410 - val_loss: 1.0281 - val_accuracy: 0.7710\n",
            "Epoch 164/200\n",
            "20/20 [==============================] - 8s 401ms/step - loss: 0.2007 - accuracy: 0.9249 - val_loss: 0.7299 - val_accuracy: 0.8097\n",
            "Epoch 165/200\n",
            "20/20 [==============================] - 6s 326ms/step - loss: 0.2067 - accuracy: 0.9305 - val_loss: 0.6857 - val_accuracy: 0.8452\n",
            "Epoch 166/200\n",
            "20/20 [==============================] - 6s 321ms/step - loss: 0.2128 - accuracy: 0.9273 - val_loss: 0.8348 - val_accuracy: 0.7968\n",
            "Epoch 167/200\n",
            "20/20 [==============================] - 7s 356ms/step - loss: 0.1946 - accuracy: 0.9281 - val_loss: 0.6564 - val_accuracy: 0.8258\n",
            "Epoch 168/200\n",
            "20/20 [==============================] - 8s 401ms/step - loss: 0.2620 - accuracy: 0.9055 - val_loss: 0.6859 - val_accuracy: 0.8258\n",
            "Epoch 169/200\n",
            "20/20 [==============================] - 6s 325ms/step - loss: 0.1839 - accuracy: 0.9370 - val_loss: 0.8334 - val_accuracy: 0.7968\n",
            "Epoch 170/200\n",
            "20/20 [==============================] - 6s 324ms/step - loss: 0.1820 - accuracy: 0.9354 - val_loss: 0.8141 - val_accuracy: 0.8161\n",
            "Epoch 171/200\n",
            "20/20 [==============================] - 8s 408ms/step - loss: 0.1621 - accuracy: 0.9410 - val_loss: 0.7962 - val_accuracy: 0.8194\n",
            "Epoch 172/200\n",
            "20/20 [==============================] - 6s 319ms/step - loss: 0.1365 - accuracy: 0.9515 - val_loss: 0.9314 - val_accuracy: 0.8290\n",
            "Epoch 173/200\n",
            "20/20 [==============================] - 8s 397ms/step - loss: 0.1320 - accuracy: 0.9580 - val_loss: 1.0115 - val_accuracy: 0.8258\n",
            "Epoch 174/200\n",
            "20/20 [==============================] - 6s 324ms/step - loss: 0.1781 - accuracy: 0.9443 - val_loss: 0.8594 - val_accuracy: 0.7839\n",
            "Epoch 175/200\n",
            "20/20 [==============================] - 8s 398ms/step - loss: 0.2718 - accuracy: 0.9136 - val_loss: 0.7109 - val_accuracy: 0.7968\n",
            "Epoch 176/200\n",
            "20/20 [==============================] - 8s 397ms/step - loss: 0.2666 - accuracy: 0.9071 - val_loss: 0.7101 - val_accuracy: 0.8097\n",
            "Epoch 177/200\n",
            "20/20 [==============================] - 7s 335ms/step - loss: 0.1817 - accuracy: 0.9321 - val_loss: 0.8828 - val_accuracy: 0.8065\n",
            "Epoch 178/200\n",
            "20/20 [==============================] - 8s 396ms/step - loss: 0.1823 - accuracy: 0.9386 - val_loss: 0.9527 - val_accuracy: 0.8161\n",
            "Epoch 179/200\n",
            "20/20 [==============================] - 6s 325ms/step - loss: 0.2114 - accuracy: 0.9265 - val_loss: 0.8519 - val_accuracy: 0.8194\n",
            "Epoch 180/200\n",
            "20/20 [==============================] - 8s 397ms/step - loss: 0.2310 - accuracy: 0.9200 - val_loss: 0.8963 - val_accuracy: 0.8000\n",
            "Epoch 181/200\n",
            "20/20 [==============================] - 6s 324ms/step - loss: 0.2204 - accuracy: 0.9265 - val_loss: 0.8977 - val_accuracy: 0.7903\n",
            "Epoch 182/200\n",
            "20/20 [==============================] - 6s 322ms/step - loss: 0.1649 - accuracy: 0.9443 - val_loss: 0.7785 - val_accuracy: 0.8161\n",
            "Epoch 183/200\n",
            "20/20 [==============================] - 8s 400ms/step - loss: 0.1485 - accuracy: 0.9556 - val_loss: 0.9158 - val_accuracy: 0.8129\n",
            "Epoch 184/200\n",
            "20/20 [==============================] - 6s 318ms/step - loss: 0.1780 - accuracy: 0.9330 - val_loss: 0.8027 - val_accuracy: 0.7935\n",
            "Epoch 185/200\n",
            "20/20 [==============================] - 8s 393ms/step - loss: 0.1530 - accuracy: 0.9459 - val_loss: 1.0052 - val_accuracy: 0.7903\n",
            "Epoch 186/200\n",
            "20/20 [==============================] - 6s 318ms/step - loss: 0.1770 - accuracy: 0.9370 - val_loss: 0.7748 - val_accuracy: 0.7806\n",
            "Epoch 187/200\n",
            "20/20 [==============================] - 8s 396ms/step - loss: 0.2222 - accuracy: 0.9208 - val_loss: 0.7968 - val_accuracy: 0.8323\n",
            "Epoch 188/200\n",
            "20/20 [==============================] - 6s 317ms/step - loss: 0.1666 - accuracy: 0.9475 - val_loss: 0.6984 - val_accuracy: 0.8355\n",
            "Epoch 189/200\n",
            "20/20 [==============================] - 8s 392ms/step - loss: 0.2076 - accuracy: 0.9321 - val_loss: 0.8164 - val_accuracy: 0.8194\n",
            "Epoch 190/200\n",
            "20/20 [==============================] - 6s 321ms/step - loss: 0.1733 - accuracy: 0.9370 - val_loss: 0.9200 - val_accuracy: 0.8194\n",
            "Epoch 191/200\n",
            "20/20 [==============================] - 8s 395ms/step - loss: 0.1540 - accuracy: 0.9507 - val_loss: 0.8666 - val_accuracy: 0.8161\n",
            "Epoch 192/200\n",
            "20/20 [==============================] - 6s 321ms/step - loss: 0.1448 - accuracy: 0.9499 - val_loss: 0.8970 - val_accuracy: 0.8129\n",
            "Epoch 193/200\n",
            "20/20 [==============================] - 8s 391ms/step - loss: 0.1731 - accuracy: 0.9459 - val_loss: 0.8379 - val_accuracy: 0.8258\n",
            "Epoch 194/200\n",
            "20/20 [==============================] - 8s 386ms/step - loss: 0.1786 - accuracy: 0.9313 - val_loss: 0.6850 - val_accuracy: 0.8387\n",
            "Epoch 195/200\n",
            "20/20 [==============================] - 7s 333ms/step - loss: 0.1628 - accuracy: 0.9451 - val_loss: 0.9862 - val_accuracy: 0.7871\n",
            "Epoch 196/200\n",
            "20/20 [==============================] - 8s 387ms/step - loss: 0.1281 - accuracy: 0.9564 - val_loss: 0.7573 - val_accuracy: 0.8290\n",
            "Epoch 197/200\n",
            "20/20 [==============================] - 6s 332ms/step - loss: 0.1347 - accuracy: 0.9475 - val_loss: 0.8623 - val_accuracy: 0.8129\n",
            "Epoch 198/200\n",
            "20/20 [==============================] - 8s 395ms/step - loss: 0.1453 - accuracy: 0.9572 - val_loss: 1.0538 - val_accuracy: 0.8161\n",
            "Epoch 199/200\n",
            "20/20 [==============================] - 8s 391ms/step - loss: 0.2160 - accuracy: 0.9305 - val_loss: 1.0221 - val_accuracy: 0.7968\n",
            "Epoch 200/200\n",
            "20/20 [==============================] - 8s 400ms/step - loss: 0.1980 - accuracy: 0.9321 - val_loss: 0.8449 - val_accuracy: 0.8129\n"
          ]
        }
      ]
    },
    {
      "cell_type": "code",
      "source": [
        "test_loss, test_acc = model.evaluate(x_test, y_test)\n",
        "print(\"Accuracy:\", test_acc)\n",
        "print('Loss:', test_loss)"
      ],
      "metadata": {
        "colab": {
          "base_uri": "https://localhost:8080/"
        },
        "id": "e4DKZAVj7NBy",
        "outputId": "3b0693aa-ac85-447a-ed0a-1b38754ff5aa"
      },
      "execution_count": null,
      "outputs": [
        {
          "output_type": "stream",
          "name": "stdout",
          "text": [
            "10/10 [==============================] - 1s 10ms/step - loss: 137.0506 - accuracy: 0.8032\n",
            "Accuracy: 0.8032258152961731\n",
            "Loss: 137.05059814453125\n"
          ]
        }
      ]
    },
    {
      "cell_type": "code",
      "source": [
        "accuracy = train.history['accuracy']\n",
        "loss = train.history['loss']\n",
        "epochs = range(len(accuracy))\n",
        "plt.plot(epochs, accuracy, 'bo', label = 'Training accuracy')\n",
        "plt.plot(epochs, loss, 'b', label = 'Traning loss')\n",
        "plt.show()"
      ],
      "metadata": {
        "colab": {
          "base_uri": "https://localhost:8080/",
          "height": 430
        },
        "id": "CrlD0Ke5Bl2S",
        "outputId": "a0b7fc0d-0036-45f1-9e6a-f4aec1d84616"
      },
      "execution_count": null,
      "outputs": [
        {
          "output_type": "display_data",
          "data": {
            "text/plain": [
              "<Figure size 640x480 with 1 Axes>"
            ],
            "image/png": "[encoded data removed]"
          },
          "metadata": {}
        }
      ]
    },
    {
      "cell_type": "code",
      "source": [
        "#Save model\n",
        "model.save('/content/drive/MyDrive/Flower/Data/MODEL_INCEPTION.h5')"
      ],
      "metadata": {
        "id": "U8fZo72WBtdX"
      },
      "execution_count": null,
      "outputs": []
    },
    {
      "cell_type": "code",
      "source": [],
      "metadata": {
        "id": "n3m9FdTTB0KV"
      },
      "execution_count": null,
      "outputs": []
    }
  ]
}